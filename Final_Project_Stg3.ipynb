{
 "cells": [
  {
   "cell_type": "markdown",
   "metadata": {
    "id": "TLNizN0llO9X"
   },
   "source": [
    "# **7 Fortune Group**\n",
    "## Banking Marketing Targets Dataset\n",
    "https://www.kaggle.com/datasets/prakharrathi25/banking-dataset-marketing-targets"
   ]
  },
  {
   "cell_type": "markdown",
   "metadata": {
    "id": "JF2uqxKmppe_"
   },
   "source": [
    "## Role"
   ]
  },
  {
   "cell_type": "markdown",
   "metadata": {
    "id": "DmWP7Ggj8xty"
   },
   "source": [
    "**Data scientist : Membantu team marketing dalam membuat model untuk menentukan targeted user.**"
   ]
  },
  {
   "cell_type": "markdown",
   "metadata": {
    "id": "U6_sMskPBTZz"
   },
   "source": [
    "## Stages"
   ]
  },
  {
   "cell_type": "markdown",
   "metadata": {
    "id": "BM9Is7gfpuW1"
   },
   "source": [
    "Stage 0\n",
    "\n",
    "\n",
    "1.  Problem Statement\n",
    "2.  Goal\n",
    "3.  Objective\n",
    "4.  Business Metrics\n",
    "\n",
    "Stage 1\n",
    "\n",
    "\n",
    "1.   Data Exploration\n",
    "2.   Exploratory Data Analysis\n",
    "3.   Business Insights and Visualization\n",
    "\n",
    "Stage 2\n",
    "\n",
    "\n",
    "1.   Data Cleansing\n",
    "2.   Featuring Engineering\n",
    "\n",
    "Stage 3\n",
    "\n",
    "\n",
    "1.   Modeling\n",
    "2.   Evaluation\n",
    "\n",
    "\n",
    "\n",
    "\n",
    "\n",
    "\n",
    "\n"
   ]
  },
  {
   "cell_type": "markdown",
   "metadata": {
    "id": "QfVlImCQmhA1"
   },
   "source": [
    "# **Stage 0**"
   ]
  },
  {
   "cell_type": "markdown",
   "metadata": {
    "id": "UqrOb2RgpNwU"
   },
   "source": [
    "## Problem Statement"
   ]
  },
  {
   "cell_type": "markdown",
   "metadata": {
    "id": "1YQu9yW3NgkX"
   },
   "source": [
    "Bank ABC adalah salah satu bank di Portugal yang ingin menawarkan produk deposito berjangka ke nasabahnya. Penawaran tersebut dilakukan secara langsung melalui telepon (telemarketing). Namun, karena cara tersebut membutuhkan banyak waktu dan biaya maka diperlukan identifikasi terlebih dahulu untuk menemukan user yang berpeluang tinggi membuka deposito berjangka sehingga proses telemarketing dapat dilakukan dengan efektif dan efisien.\n"
   ]
  },
  {
   "cell_type": "markdown",
   "metadata": {
    "id": "QDF0v3sYpzF4"
   },
   "source": [
    "## Goal"
   ]
  },
  {
   "cell_type": "markdown",
   "metadata": {
    "id": "UXzgFE36X21-"
   },
   "source": [
    "Meningkatkan conversion rate"
   ]
  },
  {
   "cell_type": "markdown",
   "metadata": {
    "id": "GJVwDc8gp4wL"
   },
   "source": [
    "## Objective"
   ]
  },
  {
   "cell_type": "markdown",
   "metadata": {
    "id": "GHZTmV6Bp8i1"
   },
   "source": [
    "1. Membuat model untuk mendeteksi user-user yang berpotensi membuka rekening deposito berjangka agar user-user tersebut lebih diprioritaskan dalam melakukan telemarketing.\n",
    "2. Memberikan rekomendasi bisnis dan rekomendasi nasabah yang berpotensi kepada pihak marketing\n"
   ]
  },
  {
   "cell_type": "markdown",
   "metadata": {
    "id": "17Xinc2u3HQl"
   },
   "source": [
    "## Business Metrics"
   ]
  },
  {
   "cell_type": "markdown",
   "metadata": {
    "id": "dnh4jo_U3NS8"
   },
   "source": [
    "Conversion rate (pembukaan deposito berjangka)\n"
   ]
  },
  {
   "cell_type": "markdown",
   "metadata": {
    "id": "JfbFy3JymsHz"
   },
   "source": [
    "# **Stage 1**"
   ]
  },
  {
   "cell_type": "markdown",
   "metadata": {
    "id": "28mEt5ZPveEF"
   },
   "source": [
    "*Deadline 26 Sep - 2 Okt 2022*"
   ]
  },
  {
   "cell_type": "code",
   "execution_count": 1,
   "metadata": {
    "id": "xLUOXI4zmGwZ"
   },
   "outputs": [],
   "source": [
    "import pandas as pd\n",
    "import numpy as np\n",
    "import matplotlib.pyplot as plt\n",
    "import seaborn as sns\n",
    "import scipy.stats as st\n",
    "import matplotlib.ticker as mtick\n",
    "from sklearn.model_selection import train_test_split\n",
    "from sklearn.preprocessing import LabelEncoder\n",
    "from sklearn.preprocessing import StandardScaler,MinMaxScaler\n",
    "from sklearn.metrics import accuracy_score, confusion_matrix, recall_score, precision_score, f1_score, auc\n",
    "from sklearn.metrics import classification_report, confusion_matrix\n",
    "from matplotlib import rcParams\n",
    "rcParams['figure.figsize'] = 12, 4\n",
    "rcParams['lines.linewidth'] = 3\n",
    "rcParams['xtick.labelsize'] = 'x-large'\n",
    "rcParams['ytick.labelsize'] = 'x-large'\n",
    "import warnings\n",
    "warnings.filterwarnings(\"ignore\")\n"
   ]
  },
  {
   "cell_type": "markdown",
   "metadata": {
    "id": "QPvXP4yNuH99"
   },
   "source": [
    "# Data Exploration"
   ]
  },
  {
   "cell_type": "markdown",
   "metadata": {
    "id": "fQ4NFUm2DSR6"
   },
   "source": [
    "## Tentang Data\n",
    "\n",
    "Projek ini menggunakan dua dataset, yaitu:\n",
    "\n",
    "- train.csv: teridiri dari 45.211 baris dan 17 kolom diurutkan berdasarkan tanggal (dari Mei 2008 hingga November 2010)\n",
    "- test.csv: teridiri dari 4521 baris dan 17 kolom, dipilih secara acak dari train.csv"
   ]
  },
  {
   "cell_type": "markdown",
   "metadata": {
    "id": "lcNpfTxFEUH8"
   },
   "source": [
    "##  Deskripsi Kolom\n",
    "**Data Klien Bank**\n",
    "- age: usia (numerikal)\n",
    "- job: jenis pekerjaan (kategorikal: 'admin.','blue-collar','entrepreneur','housemaid','management','retired','self-employed','services','student','technician','unemployed','unknown')\n",
    "- marital: status pernikahan (kategorikal: 'divorced','married','single','unknown'; note: 'divorced' means divorced or widowed)\n",
    "- education: tingkat pendidikan (kategorikal: primary, secondary, tertiary and unknown)\n",
    "- default: memiliki kredit sebelumnya? (kategorikal: 'no','yes','unknown')\n",
    "- housing: memiliki cicilan rumah? (kategorikal: 'no','yes','unknown')\n",
    "- loan: memiliki pinjaman pribadi? (kategorikal: 'no','yes','unknown')\n",
    "- balance: saldo individual.\n",
    "\n",
    "## Terkait dengan kontak terakhir dari kampanye saat ini\n",
    "- contact: jenis komunikasi ketika dihubungi (kategorikal: \"unknown\",\"telephone\",\"cellular\")\n",
    "- day: hari atau tanggal terakhir dihubungi (numerikal)\n",
    "- month: bulan terakhir dihubungi (kategorikal: \"jan\", \"feb\", \"mar\", …, \"nov\", \"dec\")\n",
    "- duration: durasi kontak terakhir, dalam detik (numeric)\n",
    "\n",
    "## Kolom lainnya\n",
    "- campaign: jumlah kontak yang dilakukan selama kampanye ini dan untuk klien ini (numerikal)\n",
    "- pdays: jumlah hari yang berlalu setelah klien terakhir dihubungi dari kampanye sebelumnya (numerikal, -1 berarti klien belum dihubungi sebelumnya)\n",
    "- previous: jumlah kontak yang dilakukan sebelum kampanye ini dan untuk klien ini (numerikal)\n",
    "- poutcome: hasil dari kampanye pemasaran sebelumnya (kategorikal: \"unknown\",\"other\",\"failure\",\"success\")\n",
    "\n",
    "## Variabel Ouput (target yang akan diprediksi):\n",
    "- y: apakah klien berlangganan deposito berjangka? (biner: \"yes\",\"no\")"
   ]
  },
  {
   "cell_type": "markdown",
   "metadata": {
    "id": "dEkudT7MHgI-"
   },
   "source": [
    "## Load Dataset"
   ]
  },
  {
   "cell_type": "code",
   "execution_count": 2,
   "metadata": {
    "id": "sDsU3YQYEPDH"
   },
   "outputs": [],
   "source": [
    "## data train\n",
    "df_train = pd.read_csv('train.csv',sep=';')"
   ]
  },
  {
   "cell_type": "code",
   "execution_count": 3,
   "metadata": {
    "colab": {
     "base_uri": "https://localhost:8080/",
     "height": 270
    },
    "id": "4lkA6dOwnYgA",
    "outputId": "d2288cc2-0495-4982-83a5-9d07fac41052"
   },
   "outputs": [
    {
     "data": {
      "text/html": [
       "<div>\n",
       "<style scoped>\n",
       "    .dataframe tbody tr th:only-of-type {\n",
       "        vertical-align: middle;\n",
       "    }\n",
       "\n",
       "    .dataframe tbody tr th {\n",
       "        vertical-align: top;\n",
       "    }\n",
       "\n",
       "    .dataframe thead th {\n",
       "        text-align: right;\n",
       "    }\n",
       "</style>\n",
       "<table border=\"1\" class=\"dataframe\">\n",
       "  <thead>\n",
       "    <tr style=\"text-align: right;\">\n",
       "      <th></th>\n",
       "      <th>age</th>\n",
       "      <th>job</th>\n",
       "      <th>marital</th>\n",
       "      <th>education</th>\n",
       "      <th>default</th>\n",
       "      <th>balance</th>\n",
       "      <th>housing</th>\n",
       "      <th>loan</th>\n",
       "      <th>contact</th>\n",
       "      <th>day</th>\n",
       "      <th>month</th>\n",
       "      <th>duration</th>\n",
       "      <th>campaign</th>\n",
       "      <th>pdays</th>\n",
       "      <th>previous</th>\n",
       "      <th>poutcome</th>\n",
       "      <th>y</th>\n",
       "    </tr>\n",
       "  </thead>\n",
       "  <tbody>\n",
       "    <tr>\n",
       "      <th>39485</th>\n",
       "      <td>37</td>\n",
       "      <td>entrepreneur</td>\n",
       "      <td>married</td>\n",
       "      <td>primary</td>\n",
       "      <td>no</td>\n",
       "      <td>0</td>\n",
       "      <td>no</td>\n",
       "      <td>no</td>\n",
       "      <td>cellular</td>\n",
       "      <td>25</td>\n",
       "      <td>may</td>\n",
       "      <td>163</td>\n",
       "      <td>1</td>\n",
       "      <td>-1</td>\n",
       "      <td>0</td>\n",
       "      <td>unknown</td>\n",
       "      <td>no</td>\n",
       "    </tr>\n",
       "    <tr>\n",
       "      <th>567</th>\n",
       "      <td>46</td>\n",
       "      <td>unemployed</td>\n",
       "      <td>married</td>\n",
       "      <td>secondary</td>\n",
       "      <td>no</td>\n",
       "      <td>-125</td>\n",
       "      <td>yes</td>\n",
       "      <td>no</td>\n",
       "      <td>unknown</td>\n",
       "      <td>6</td>\n",
       "      <td>may</td>\n",
       "      <td>23</td>\n",
       "      <td>1</td>\n",
       "      <td>-1</td>\n",
       "      <td>0</td>\n",
       "      <td>unknown</td>\n",
       "      <td>no</td>\n",
       "    </tr>\n",
       "    <tr>\n",
       "      <th>27365</th>\n",
       "      <td>54</td>\n",
       "      <td>retired</td>\n",
       "      <td>married</td>\n",
       "      <td>primary</td>\n",
       "      <td>no</td>\n",
       "      <td>235</td>\n",
       "      <td>no</td>\n",
       "      <td>yes</td>\n",
       "      <td>cellular</td>\n",
       "      <td>21</td>\n",
       "      <td>nov</td>\n",
       "      <td>353</td>\n",
       "      <td>2</td>\n",
       "      <td>113</td>\n",
       "      <td>5</td>\n",
       "      <td>failure</td>\n",
       "      <td>no</td>\n",
       "    </tr>\n",
       "    <tr>\n",
       "      <th>25778</th>\n",
       "      <td>57</td>\n",
       "      <td>admin.</td>\n",
       "      <td>divorced</td>\n",
       "      <td>secondary</td>\n",
       "      <td>no</td>\n",
       "      <td>18268</td>\n",
       "      <td>yes</td>\n",
       "      <td>no</td>\n",
       "      <td>cellular</td>\n",
       "      <td>19</td>\n",
       "      <td>nov</td>\n",
       "      <td>68</td>\n",
       "      <td>1</td>\n",
       "      <td>-1</td>\n",
       "      <td>0</td>\n",
       "      <td>unknown</td>\n",
       "      <td>no</td>\n",
       "    </tr>\n",
       "    <tr>\n",
       "      <th>21748</th>\n",
       "      <td>31</td>\n",
       "      <td>management</td>\n",
       "      <td>married</td>\n",
       "      <td>tertiary</td>\n",
       "      <td>no</td>\n",
       "      <td>50</td>\n",
       "      <td>no</td>\n",
       "      <td>no</td>\n",
       "      <td>cellular</td>\n",
       "      <td>19</td>\n",
       "      <td>aug</td>\n",
       "      <td>37</td>\n",
       "      <td>5</td>\n",
       "      <td>-1</td>\n",
       "      <td>0</td>\n",
       "      <td>unknown</td>\n",
       "      <td>no</td>\n",
       "    </tr>\n",
       "  </tbody>\n",
       "</table>\n",
       "</div>"
      ],
      "text/plain": [
       "       age           job   marital  education default  balance housing loan  \\\n",
       "39485   37  entrepreneur   married    primary      no        0      no   no   \n",
       "567     46    unemployed   married  secondary      no     -125     yes   no   \n",
       "27365   54       retired   married    primary      no      235      no  yes   \n",
       "25778   57        admin.  divorced  secondary      no    18268     yes   no   \n",
       "21748   31    management   married   tertiary      no       50      no   no   \n",
       "\n",
       "        contact  day month  duration  campaign  pdays  previous poutcome   y  \n",
       "39485  cellular   25   may       163         1     -1         0  unknown  no  \n",
       "567     unknown    6   may        23         1     -1         0  unknown  no  \n",
       "27365  cellular   21   nov       353         2    113         5  failure  no  \n",
       "25778  cellular   19   nov        68         1     -1         0  unknown  no  \n",
       "21748  cellular   19   aug        37         5     -1         0  unknown  no  "
      ]
     },
     "execution_count": 3,
     "metadata": {},
     "output_type": "execute_result"
    }
   ],
   "source": [
    "df_train.sample(5)"
   ]
  },
  {
   "cell_type": "code",
   "execution_count": 4,
   "metadata": {
    "id": "bQmAheIYEo_G"
   },
   "outputs": [],
   "source": [
    "## data test\n",
    "df_test = pd.read_csv('test.csv',sep=';')"
   ]
  },
  {
   "cell_type": "code",
   "execution_count": 5,
   "metadata": {
    "colab": {
     "base_uri": "https://localhost:8080/",
     "height": 270
    },
    "id": "D1_B95AoGfDT",
    "outputId": "8669df0b-60f9-47b1-e12c-72578db7b8bc"
   },
   "outputs": [
    {
     "data": {
      "text/html": [
       "<div>\n",
       "<style scoped>\n",
       "    .dataframe tbody tr th:only-of-type {\n",
       "        vertical-align: middle;\n",
       "    }\n",
       "\n",
       "    .dataframe tbody tr th {\n",
       "        vertical-align: top;\n",
       "    }\n",
       "\n",
       "    .dataframe thead th {\n",
       "        text-align: right;\n",
       "    }\n",
       "</style>\n",
       "<table border=\"1\" class=\"dataframe\">\n",
       "  <thead>\n",
       "    <tr style=\"text-align: right;\">\n",
       "      <th></th>\n",
       "      <th>age</th>\n",
       "      <th>job</th>\n",
       "      <th>marital</th>\n",
       "      <th>education</th>\n",
       "      <th>default</th>\n",
       "      <th>balance</th>\n",
       "      <th>housing</th>\n",
       "      <th>loan</th>\n",
       "      <th>contact</th>\n",
       "      <th>day</th>\n",
       "      <th>month</th>\n",
       "      <th>duration</th>\n",
       "      <th>campaign</th>\n",
       "      <th>pdays</th>\n",
       "      <th>previous</th>\n",
       "      <th>poutcome</th>\n",
       "      <th>y</th>\n",
       "    </tr>\n",
       "  </thead>\n",
       "  <tbody>\n",
       "    <tr>\n",
       "      <th>1184</th>\n",
       "      <td>37</td>\n",
       "      <td>technician</td>\n",
       "      <td>married</td>\n",
       "      <td>secondary</td>\n",
       "      <td>no</td>\n",
       "      <td>430</td>\n",
       "      <td>no</td>\n",
       "      <td>no</td>\n",
       "      <td>cellular</td>\n",
       "      <td>27</td>\n",
       "      <td>aug</td>\n",
       "      <td>154</td>\n",
       "      <td>4</td>\n",
       "      <td>-1</td>\n",
       "      <td>0</td>\n",
       "      <td>unknown</td>\n",
       "      <td>no</td>\n",
       "    </tr>\n",
       "    <tr>\n",
       "      <th>932</th>\n",
       "      <td>39</td>\n",
       "      <td>management</td>\n",
       "      <td>divorced</td>\n",
       "      <td>tertiary</td>\n",
       "      <td>no</td>\n",
       "      <td>3575</td>\n",
       "      <td>no</td>\n",
       "      <td>yes</td>\n",
       "      <td>cellular</td>\n",
       "      <td>18</td>\n",
       "      <td>aug</td>\n",
       "      <td>74</td>\n",
       "      <td>3</td>\n",
       "      <td>-1</td>\n",
       "      <td>0</td>\n",
       "      <td>unknown</td>\n",
       "      <td>no</td>\n",
       "    </tr>\n",
       "    <tr>\n",
       "      <th>1163</th>\n",
       "      <td>35</td>\n",
       "      <td>unemployed</td>\n",
       "      <td>married</td>\n",
       "      <td>secondary</td>\n",
       "      <td>no</td>\n",
       "      <td>977</td>\n",
       "      <td>yes</td>\n",
       "      <td>no</td>\n",
       "      <td>cellular</td>\n",
       "      <td>4</td>\n",
       "      <td>may</td>\n",
       "      <td>52</td>\n",
       "      <td>4</td>\n",
       "      <td>91</td>\n",
       "      <td>1</td>\n",
       "      <td>other</td>\n",
       "      <td>no</td>\n",
       "    </tr>\n",
       "    <tr>\n",
       "      <th>3935</th>\n",
       "      <td>38</td>\n",
       "      <td>management</td>\n",
       "      <td>single</td>\n",
       "      <td>tertiary</td>\n",
       "      <td>no</td>\n",
       "      <td>1704</td>\n",
       "      <td>no</td>\n",
       "      <td>no</td>\n",
       "      <td>cellular</td>\n",
       "      <td>1</td>\n",
       "      <td>sep</td>\n",
       "      <td>222</td>\n",
       "      <td>1</td>\n",
       "      <td>-1</td>\n",
       "      <td>0</td>\n",
       "      <td>unknown</td>\n",
       "      <td>no</td>\n",
       "    </tr>\n",
       "    <tr>\n",
       "      <th>3747</th>\n",
       "      <td>37</td>\n",
       "      <td>blue-collar</td>\n",
       "      <td>married</td>\n",
       "      <td>secondary</td>\n",
       "      <td>no</td>\n",
       "      <td>140</td>\n",
       "      <td>yes</td>\n",
       "      <td>yes</td>\n",
       "      <td>cellular</td>\n",
       "      <td>7</td>\n",
       "      <td>may</td>\n",
       "      <td>490</td>\n",
       "      <td>1</td>\n",
       "      <td>-1</td>\n",
       "      <td>0</td>\n",
       "      <td>unknown</td>\n",
       "      <td>no</td>\n",
       "    </tr>\n",
       "  </tbody>\n",
       "</table>\n",
       "</div>"
      ],
      "text/plain": [
       "      age          job   marital  education default  balance housing loan  \\\n",
       "1184   37   technician   married  secondary      no      430      no   no   \n",
       "932    39   management  divorced   tertiary      no     3575      no  yes   \n",
       "1163   35   unemployed   married  secondary      no      977     yes   no   \n",
       "3935   38   management    single   tertiary      no     1704      no   no   \n",
       "3747   37  blue-collar   married  secondary      no      140     yes  yes   \n",
       "\n",
       "       contact  day month  duration  campaign  pdays  previous poutcome   y  \n",
       "1184  cellular   27   aug       154         4     -1         0  unknown  no  \n",
       "932   cellular   18   aug        74         3     -1         0  unknown  no  \n",
       "1163  cellular    4   may        52         4     91         1    other  no  \n",
       "3935  cellular    1   sep       222         1     -1         0  unknown  no  \n",
       "3747  cellular    7   may       490         1     -1         0  unknown  no  "
      ]
     },
     "execution_count": 5,
     "metadata": {},
     "output_type": "execute_result"
    }
   ],
   "source": [
    "df_test.sample(5)"
   ]
  },
  {
   "cell_type": "code",
   "execution_count": 6,
   "metadata": {
    "colab": {
     "base_uri": "https://localhost:8080/"
    },
    "id": "WQwZ-LfwG2WP",
    "outputId": "d254c422-aca1-4811-e22a-710cabbc1641"
   },
   "outputs": [
    {
     "name": "stdout",
     "output_type": "stream",
     "text": [
      "Train data size:  (45211, 17)\n",
      "Test data size:  (4521, 17)\n"
     ]
    }
   ],
   "source": [
    "# dataset size\n",
    "print('Train data size: ', df_train.shape)\n",
    "print('Test data size: ', df_test.shape)"
   ]
  },
  {
   "cell_type": "markdown",
   "metadata": {
    "id": "89SF0YNlus9G"
   },
   "source": [
    "# Exploratory Data Analysis"
   ]
  },
  {
   "cell_type": "markdown",
   "metadata": {
    "id": "4OPjWGOryzzJ"
   },
   "source": [
    "## Statistics Descriptive"
   ]
  },
  {
   "cell_type": "code",
   "execution_count": 7,
   "metadata": {
    "colab": {
     "base_uri": "https://localhost:8080/"
    },
    "id": "ppkczaNcu0Kr",
    "outputId": "bd8aaf63-a774-4e77-d431-73558dd0f904"
   },
   "outputs": [
    {
     "name": "stdout",
     "output_type": "stream",
     "text": [
      "<class 'pandas.core.frame.DataFrame'>\n",
      "RangeIndex: 45211 entries, 0 to 45210\n",
      "Data columns (total 17 columns):\n",
      " #   Column     Non-Null Count  Dtype \n",
      "---  ------     --------------  ----- \n",
      " 0   age        45211 non-null  int64 \n",
      " 1   job        45211 non-null  object\n",
      " 2   marital    45211 non-null  object\n",
      " 3   education  45211 non-null  object\n",
      " 4   default    45211 non-null  object\n",
      " 5   balance    45211 non-null  int64 \n",
      " 6   housing    45211 non-null  object\n",
      " 7   loan       45211 non-null  object\n",
      " 8   contact    45211 non-null  object\n",
      " 9   day        45211 non-null  int64 \n",
      " 10  month      45211 non-null  object\n",
      " 11  duration   45211 non-null  int64 \n",
      " 12  campaign   45211 non-null  int64 \n",
      " 13  pdays      45211 non-null  int64 \n",
      " 14  previous   45211 non-null  int64 \n",
      " 15  poutcome   45211 non-null  object\n",
      " 16  y          45211 non-null  object\n",
      "dtypes: int64(7), object(10)\n",
      "memory usage: 5.9+ MB\n"
     ]
    }
   ],
   "source": [
    "df_train.info()"
   ]
  },
  {
   "cell_type": "code",
   "execution_count": 8,
   "metadata": {},
   "outputs": [
    {
     "data": {
      "text/plain": [
       "age          0\n",
       "job          0\n",
       "marital      0\n",
       "education    0\n",
       "default      0\n",
       "balance      0\n",
       "housing      0\n",
       "loan         0\n",
       "contact      0\n",
       "day          0\n",
       "month        0\n",
       "duration     0\n",
       "campaign     0\n",
       "pdays        0\n",
       "previous     0\n",
       "poutcome     0\n",
       "y            0\n",
       "dtype: int64"
      ]
     },
     "execution_count": 8,
     "metadata": {},
     "output_type": "execute_result"
    }
   ],
   "source": [
    "#Jumlah Missing Value\n",
    "df_train.isna().sum()"
   ]
  },
  {
   "cell_type": "code",
   "execution_count": 9,
   "metadata": {},
   "outputs": [
    {
     "data": {
      "text/plain": [
       "False"
      ]
     },
     "execution_count": 9,
     "metadata": {},
     "output_type": "execute_result"
    }
   ],
   "source": [
    "df_train.duplicated().any()"
   ]
  },
  {
   "cell_type": "code",
   "execution_count": 10,
   "metadata": {},
   "outputs": [
    {
     "data": {
      "text/plain": [
       "no     39922\n",
       "yes     5289\n",
       "Name: y, dtype: int64"
      ]
     },
     "execution_count": 10,
     "metadata": {},
     "output_type": "execute_result"
    }
   ],
   "source": [
    "df_train['y'].value_counts()"
   ]
  },
  {
   "cell_type": "code",
   "execution_count": 11,
   "metadata": {
    "colab": {
     "base_uri": "https://localhost:8080/",
     "height": 287
    },
    "id": "SgaN2CxqEGe6",
    "outputId": "082a353b-28c8-477b-8a92-920b8b63ef46"
   },
   "outputs": [],
   "source": [
    "#Pemisahan data Yes Dan NO\n",
    "df_yes=df_train[df_train['y']=='yes']\n",
    "df_no=df_train[df_train['y']=='no']"
   ]
  },
  {
   "cell_type": "code",
   "execution_count": 12,
   "metadata": {
    "id": "G19MkzYKzOYH"
   },
   "outputs": [],
   "source": [
    "#Pemisahan Kolom Berdasarakn Typedata (Numerik & Kategori)\n",
    "nums=['age','balance','day','duration','campaign','pdays','previous']\n",
    "cats=['job','marital','education','default','housing','loan','contact','month','poutcome','y']"
   ]
  },
  {
   "cell_type": "markdown",
   "metadata": {},
   "source": [
    "Catatan : \n",
    "1. semua Typedata sesuai\n",
    "2. Tidak di temukan Missing value/ Data kosong di setiap kolom\n",
    "3. Tidak di temukan Data Duplikat\n",
    "4. terdapat imbalance data user yang membuka deposito dan tidak membuka deposito"
   ]
  },
  {
   "cell_type": "code",
   "execution_count": 13,
   "metadata": {
    "colab": {
     "base_uri": "https://localhost:8080/",
     "height": 269
    },
    "id": "hLT_mxAdAYPt",
    "outputId": "d50c0d98-1375-454b-ff40-aec0365a9d22"
   },
   "outputs": [
    {
     "data": {
      "text/html": [
       "<div>\n",
       "<style scoped>\n",
       "    .dataframe tbody tr th:only-of-type {\n",
       "        vertical-align: middle;\n",
       "    }\n",
       "\n",
       "    .dataframe tbody tr th {\n",
       "        vertical-align: top;\n",
       "    }\n",
       "\n",
       "    .dataframe thead th {\n",
       "        text-align: right;\n",
       "    }\n",
       "</style>\n",
       "<table border=\"1\" class=\"dataframe\">\n",
       "  <thead>\n",
       "    <tr style=\"text-align: right;\">\n",
       "      <th></th>\n",
       "      <th>count</th>\n",
       "      <th>mean</th>\n",
       "      <th>std</th>\n",
       "      <th>min</th>\n",
       "      <th>25%</th>\n",
       "      <th>50%</th>\n",
       "      <th>75%</th>\n",
       "      <th>max</th>\n",
       "    </tr>\n",
       "  </thead>\n",
       "  <tbody>\n",
       "    <tr>\n",
       "      <th>age</th>\n",
       "      <td>45211.0</td>\n",
       "      <td>40.936210</td>\n",
       "      <td>10.618762</td>\n",
       "      <td>18.0</td>\n",
       "      <td>33.0</td>\n",
       "      <td>39.0</td>\n",
       "      <td>48.0</td>\n",
       "      <td>95.0</td>\n",
       "    </tr>\n",
       "    <tr>\n",
       "      <th>balance</th>\n",
       "      <td>45211.0</td>\n",
       "      <td>1362.272058</td>\n",
       "      <td>3044.765829</td>\n",
       "      <td>-8019.0</td>\n",
       "      <td>72.0</td>\n",
       "      <td>448.0</td>\n",
       "      <td>1428.0</td>\n",
       "      <td>102127.0</td>\n",
       "    </tr>\n",
       "    <tr>\n",
       "      <th>day</th>\n",
       "      <td>45211.0</td>\n",
       "      <td>15.806419</td>\n",
       "      <td>8.322476</td>\n",
       "      <td>1.0</td>\n",
       "      <td>8.0</td>\n",
       "      <td>16.0</td>\n",
       "      <td>21.0</td>\n",
       "      <td>31.0</td>\n",
       "    </tr>\n",
       "    <tr>\n",
       "      <th>duration</th>\n",
       "      <td>45211.0</td>\n",
       "      <td>258.163080</td>\n",
       "      <td>257.527812</td>\n",
       "      <td>0.0</td>\n",
       "      <td>103.0</td>\n",
       "      <td>180.0</td>\n",
       "      <td>319.0</td>\n",
       "      <td>4918.0</td>\n",
       "    </tr>\n",
       "    <tr>\n",
       "      <th>campaign</th>\n",
       "      <td>45211.0</td>\n",
       "      <td>2.763841</td>\n",
       "      <td>3.098021</td>\n",
       "      <td>1.0</td>\n",
       "      <td>1.0</td>\n",
       "      <td>2.0</td>\n",
       "      <td>3.0</td>\n",
       "      <td>63.0</td>\n",
       "    </tr>\n",
       "    <tr>\n",
       "      <th>pdays</th>\n",
       "      <td>45211.0</td>\n",
       "      <td>40.197828</td>\n",
       "      <td>100.128746</td>\n",
       "      <td>-1.0</td>\n",
       "      <td>-1.0</td>\n",
       "      <td>-1.0</td>\n",
       "      <td>-1.0</td>\n",
       "      <td>871.0</td>\n",
       "    </tr>\n",
       "    <tr>\n",
       "      <th>previous</th>\n",
       "      <td>45211.0</td>\n",
       "      <td>0.580323</td>\n",
       "      <td>2.303441</td>\n",
       "      <td>0.0</td>\n",
       "      <td>0.0</td>\n",
       "      <td>0.0</td>\n",
       "      <td>0.0</td>\n",
       "      <td>275.0</td>\n",
       "    </tr>\n",
       "  </tbody>\n",
       "</table>\n",
       "</div>"
      ],
      "text/plain": [
       "            count         mean          std     min    25%    50%     75%  \\\n",
       "age       45211.0    40.936210    10.618762    18.0   33.0   39.0    48.0   \n",
       "balance   45211.0  1362.272058  3044.765829 -8019.0   72.0  448.0  1428.0   \n",
       "day       45211.0    15.806419     8.322476     1.0    8.0   16.0    21.0   \n",
       "duration  45211.0   258.163080   257.527812     0.0  103.0  180.0   319.0   \n",
       "campaign  45211.0     2.763841     3.098021     1.0    1.0    2.0     3.0   \n",
       "pdays     45211.0    40.197828   100.128746    -1.0   -1.0   -1.0    -1.0   \n",
       "previous  45211.0     0.580323     2.303441     0.0    0.0    0.0     0.0   \n",
       "\n",
       "               max  \n",
       "age           95.0  \n",
       "balance   102127.0  \n",
       "day           31.0  \n",
       "duration    4918.0  \n",
       "campaign      63.0  \n",
       "pdays        871.0  \n",
       "previous     275.0  "
      ]
     },
     "execution_count": 13,
     "metadata": {},
     "output_type": "execute_result"
    }
   ],
   "source": [
    "df_train[nums].describe().transpose()"
   ]
  },
  {
   "cell_type": "markdown",
   "metadata": {},
   "source": [
    "Catatan : \n",
    "1. kolom age,day memiliki sedikit persebaran data berbeda dengan kolom balance dan pdays yang memiliki pesebaran data yang besar dan cukup ekstrim\n",
    "2. perbedaan yang cukup signifikan antara mean/median dengan max mengidikasikan outlier yang juga signifikan "
   ]
  },
  {
   "cell_type": "code",
   "execution_count": 14,
   "metadata": {},
   "outputs": [
    {
     "data": {
      "text/html": [
       "<div>\n",
       "<style scoped>\n",
       "    .dataframe tbody tr th:only-of-type {\n",
       "        vertical-align: middle;\n",
       "    }\n",
       "\n",
       "    .dataframe tbody tr th {\n",
       "        vertical-align: top;\n",
       "    }\n",
       "\n",
       "    .dataframe thead th {\n",
       "        text-align: right;\n",
       "    }\n",
       "</style>\n",
       "<table border=\"1\" class=\"dataframe\">\n",
       "  <thead>\n",
       "    <tr style=\"text-align: right;\">\n",
       "      <th></th>\n",
       "      <th>age</th>\n",
       "      <th>balance</th>\n",
       "      <th>day</th>\n",
       "      <th>duration</th>\n",
       "      <th>campaign</th>\n",
       "      <th>pdays</th>\n",
       "      <th>previous</th>\n",
       "    </tr>\n",
       "  </thead>\n",
       "  <tbody>\n",
       "    <tr>\n",
       "      <th>0</th>\n",
       "      <td>32</td>\n",
       "      <td>0</td>\n",
       "      <td>20</td>\n",
       "      <td>124</td>\n",
       "      <td>1</td>\n",
       "      <td>-1</td>\n",
       "      <td>0</td>\n",
       "    </tr>\n",
       "  </tbody>\n",
       "</table>\n",
       "</div>"
      ],
      "text/plain": [
       "   age  balance  day  duration  campaign  pdays  previous\n",
       "0   32        0   20       124         1     -1         0"
      ]
     },
     "execution_count": 14,
     "metadata": {},
     "output_type": "execute_result"
    }
   ],
   "source": [
    "df_train[nums].mode()"
   ]
  },
  {
   "cell_type": "markdown",
   "metadata": {},
   "source": [
    "dari informasi di atas diperoleh bahwa:\n",
    "1. usia client yang paling banyak ditemukan adalah client dengan usia 32 tahun\n",
    "2. balance yang palinga banyak ditemukan adalah 0 euro.\n",
    "3. day atau tanggal paling banyak adalah 20\n",
    "4. duration yang paling banyak dilakukan adalah 124 detik.\n",
    "5. jumlah campaign yang sering(muncul) dilakukan untuk client adalah sebanyak 1 kali.\n",
    "6. dari nilai pdays, yang paling banyak adalah -1 (client belum dihubungi sebelumnya).\n",
    "7. nilai previous yang menandakan jumlah kontak yang dilakukan sebelum kampanye dilakukan terbanyak adalah 0\n"
   ]
  },
  {
   "cell_type": "code",
   "execution_count": 15,
   "metadata": {
    "colab": {
     "base_uri": "https://localhost:8080/",
     "height": 363
    },
    "id": "Ww1E84yv3da1",
    "outputId": "723ba431-6754-4448-c8c7-14ce68924b4e"
   },
   "outputs": [
    {
     "data": {
      "text/html": [
       "<div>\n",
       "<style scoped>\n",
       "    .dataframe tbody tr th:only-of-type {\n",
       "        vertical-align: middle;\n",
       "    }\n",
       "\n",
       "    .dataframe tbody tr th {\n",
       "        vertical-align: top;\n",
       "    }\n",
       "\n",
       "    .dataframe thead th {\n",
       "        text-align: right;\n",
       "    }\n",
       "</style>\n",
       "<table border=\"1\" class=\"dataframe\">\n",
       "  <thead>\n",
       "    <tr style=\"text-align: right;\">\n",
       "      <th></th>\n",
       "      <th>job</th>\n",
       "      <th>marital</th>\n",
       "      <th>education</th>\n",
       "      <th>default</th>\n",
       "      <th>housing</th>\n",
       "      <th>loan</th>\n",
       "      <th>contact</th>\n",
       "      <th>month</th>\n",
       "      <th>poutcome</th>\n",
       "      <th>y</th>\n",
       "    </tr>\n",
       "  </thead>\n",
       "  <tbody>\n",
       "    <tr>\n",
       "      <th>count</th>\n",
       "      <td>45211</td>\n",
       "      <td>45211</td>\n",
       "      <td>45211</td>\n",
       "      <td>45211</td>\n",
       "      <td>45211</td>\n",
       "      <td>45211</td>\n",
       "      <td>45211</td>\n",
       "      <td>45211</td>\n",
       "      <td>45211</td>\n",
       "      <td>45211</td>\n",
       "    </tr>\n",
       "    <tr>\n",
       "      <th>unique</th>\n",
       "      <td>12</td>\n",
       "      <td>3</td>\n",
       "      <td>4</td>\n",
       "      <td>2</td>\n",
       "      <td>2</td>\n",
       "      <td>2</td>\n",
       "      <td>3</td>\n",
       "      <td>12</td>\n",
       "      <td>4</td>\n",
       "      <td>2</td>\n",
       "    </tr>\n",
       "    <tr>\n",
       "      <th>top</th>\n",
       "      <td>blue-collar</td>\n",
       "      <td>married</td>\n",
       "      <td>secondary</td>\n",
       "      <td>no</td>\n",
       "      <td>yes</td>\n",
       "      <td>no</td>\n",
       "      <td>cellular</td>\n",
       "      <td>may</td>\n",
       "      <td>unknown</td>\n",
       "      <td>no</td>\n",
       "    </tr>\n",
       "    <tr>\n",
       "      <th>freq</th>\n",
       "      <td>9732</td>\n",
       "      <td>27214</td>\n",
       "      <td>23202</td>\n",
       "      <td>44396</td>\n",
       "      <td>25130</td>\n",
       "      <td>37967</td>\n",
       "      <td>29285</td>\n",
       "      <td>13766</td>\n",
       "      <td>36959</td>\n",
       "      <td>39922</td>\n",
       "    </tr>\n",
       "  </tbody>\n",
       "</table>\n",
       "</div>"
      ],
      "text/plain": [
       "                job  marital  education default housing   loan   contact  \\\n",
       "count         45211    45211      45211   45211   45211  45211     45211   \n",
       "unique           12        3          4       2       2      2         3   \n",
       "top     blue-collar  married  secondary      no     yes     no  cellular   \n",
       "freq           9732    27214      23202   44396   25130  37967     29285   \n",
       "\n",
       "        month poutcome      y  \n",
       "count   45211    45211  45211  \n",
       "unique     12        4      2  \n",
       "top       may  unknown     no  \n",
       "freq    13766    36959  39922  "
      ]
     },
     "execution_count": 15,
     "metadata": {},
     "output_type": "execute_result"
    }
   ],
   "source": [
    "df_train[cats].describe()"
   ]
  },
  {
   "cell_type": "markdown",
   "metadata": {},
   "source": [
    "diperoleh bahwa:\n",
    "1. Ada 12 pekerjaan, blue-collar adalah pekerjaan terbanyak\n",
    "2. client dengan status sudah menikah merupakan client yang terbanyak\n",
    "3. kebanyakan pendidikan client dari data adalah secondary\n",
    "4. default no merupakan data dari default yang kebanyakan ditemukan pada client\n",
    "5. kebanyakan client mempunyai rumah\n",
    "6. client dengan tidak adanya pinjaman merupakan client yang terbanyak.\n",
    "7. client sering dihubungi melalui cellular\n",
    "8. data month yang paling banyak adalah may\n",
    "9. poutcome yang paling banyak ditemukan adalah unknown\n",
    "10. nilai dari y yang paling sering muncul adalah no yang menandakan bahwa client kebanyakan tidak menjadi nasabah deposito\n",
    "\n"
   ]
  },
  {
   "cell_type": "code",
   "execution_count": 16,
   "metadata": {
    "colab": {
     "base_uri": "https://localhost:8080/"
    },
    "id": "AnfqXFv25kmq",
    "outputId": "1830193d-89a3-4870-9993-177800fe7e9e"
   },
   "outputs": [
    {
     "name": "stdout",
     "output_type": "stream",
     "text": [
      "Data Value count kolom age:\n",
      "32    2085\n",
      "31    1996\n",
      "33    1972\n",
      "34    1930\n",
      "35    1894\n",
      "      ... \n",
      "93       2\n",
      "90       2\n",
      "95       2\n",
      "88       2\n",
      "94       1\n",
      "Name: age, Length: 77, dtype: int64\n",
      "\n",
      "Data Value count kolom balance:\n",
      " 0        3514\n",
      " 1         195\n",
      " 2         156\n",
      " 4         139\n",
      " 3         134\n",
      "          ... \n",
      "-381         1\n",
      " 4617        1\n",
      " 20584       1\n",
      " 4358        1\n",
      " 16353       1\n",
      "Name: balance, Length: 7168, dtype: int64\n",
      "\n",
      "Data Value count kolom day:\n",
      "20    2752\n",
      "18    2308\n",
      "21    2026\n",
      "17    1939\n",
      "6     1932\n",
      "5     1910\n",
      "14    1848\n",
      "8     1842\n",
      "28    1830\n",
      "7     1817\n",
      "19    1757\n",
      "29    1745\n",
      "15    1703\n",
      "12    1603\n",
      "13    1585\n",
      "30    1566\n",
      "9     1561\n",
      "11    1479\n",
      "4     1445\n",
      "16    1415\n",
      "2     1293\n",
      "27    1121\n",
      "3     1079\n",
      "26    1035\n",
      "23     939\n",
      "22     905\n",
      "25     840\n",
      "31     643\n",
      "10     524\n",
      "24     447\n",
      "1      322\n",
      "Name: day, dtype: int64\n",
      "\n",
      "Data Value count kolom duration:\n",
      "124     188\n",
      "90      184\n",
      "89      177\n",
      "104     175\n",
      "122     175\n",
      "       ... \n",
      "1833      1\n",
      "1545      1\n",
      "1352      1\n",
      "1342      1\n",
      "1556      1\n",
      "Name: duration, Length: 1573, dtype: int64\n",
      "\n",
      "Data Value count kolom campaign:\n",
      "1     17544\n",
      "2     12505\n",
      "3      5521\n",
      "4      3522\n",
      "5      1764\n",
      "6      1291\n",
      "7       735\n",
      "8       540\n",
      "9       327\n",
      "10      266\n",
      "11      201\n",
      "12      155\n",
      "13      133\n",
      "14       93\n",
      "15       84\n",
      "16       79\n",
      "17       69\n",
      "18       51\n",
      "19       44\n",
      "20       43\n",
      "21       35\n",
      "22       23\n",
      "25       22\n",
      "23       22\n",
      "24       20\n",
      "29       16\n",
      "28       16\n",
      "26       13\n",
      "31       12\n",
      "27       10\n",
      "32        9\n",
      "30        8\n",
      "33        6\n",
      "34        5\n",
      "36        4\n",
      "35        4\n",
      "43        3\n",
      "38        3\n",
      "37        2\n",
      "50        2\n",
      "41        2\n",
      "46        1\n",
      "58        1\n",
      "55        1\n",
      "63        1\n",
      "51        1\n",
      "39        1\n",
      "44        1\n",
      "Name: campaign, dtype: int64\n",
      "\n",
      "Data Value count kolom pdays:\n",
      "-1      36954\n",
      " 182      167\n",
      " 92       147\n",
      " 91       126\n",
      " 183      126\n",
      "        ...  \n",
      " 449        1\n",
      " 452        1\n",
      " 648        1\n",
      " 595        1\n",
      " 530        1\n",
      "Name: pdays, Length: 559, dtype: int64\n",
      "\n",
      "Data Value count kolom previous:\n",
      "0      36954\n",
      "1       2772\n",
      "2       2106\n",
      "3       1142\n",
      "4        714\n",
      "5        459\n",
      "6        277\n",
      "7        205\n",
      "8        129\n",
      "9         92\n",
      "10        67\n",
      "11        65\n",
      "12        44\n",
      "13        38\n",
      "15        20\n",
      "14        19\n",
      "17        15\n",
      "16        13\n",
      "19        11\n",
      "20         8\n",
      "23         8\n",
      "18         6\n",
      "22         6\n",
      "24         5\n",
      "27         5\n",
      "21         4\n",
      "29         4\n",
      "25         4\n",
      "30         3\n",
      "38         2\n",
      "37         2\n",
      "26         2\n",
      "28         2\n",
      "51         1\n",
      "275        1\n",
      "58         1\n",
      "32         1\n",
      "40         1\n",
      "55         1\n",
      "35         1\n",
      "41         1\n",
      "Name: previous, dtype: int64\n",
      "\n"
     ]
    }
   ],
   "source": [
    "for col in nums:\n",
    "    print(f'''Data Value count kolom {col}:''')\n",
    "    print(df_train[col].value_counts())\n",
    "    print()"
   ]
  },
  {
   "cell_type": "code",
   "execution_count": 17,
   "metadata": {
    "colab": {
     "base_uri": "https://localhost:8080/"
    },
    "id": "f9OJ-MQw6dn5",
    "outputId": "53718fc5-6f31-4107-f5a3-ad4a93e45a6c"
   },
   "outputs": [
    {
     "name": "stdout",
     "output_type": "stream",
     "text": [
      "Data Value count kolom job:\n",
      "blue-collar      9732\n",
      "management       9458\n",
      "technician       7597\n",
      "admin.           5171\n",
      "services         4154\n",
      "retired          2264\n",
      "self-employed    1579\n",
      "entrepreneur     1487\n",
      "unemployed       1303\n",
      "housemaid        1240\n",
      "student           938\n",
      "unknown           288\n",
      "Name: job, dtype: int64\n",
      "\n",
      "Data Value count kolom marital:\n",
      "married     27214\n",
      "single      12790\n",
      "divorced     5207\n",
      "Name: marital, dtype: int64\n",
      "\n",
      "Data Value count kolom education:\n",
      "secondary    23202\n",
      "tertiary     13301\n",
      "primary       6851\n",
      "unknown       1857\n",
      "Name: education, dtype: int64\n",
      "\n",
      "Data Value count kolom default:\n",
      "no     44396\n",
      "yes      815\n",
      "Name: default, dtype: int64\n",
      "\n",
      "Data Value count kolom housing:\n",
      "yes    25130\n",
      "no     20081\n",
      "Name: housing, dtype: int64\n",
      "\n",
      "Data Value count kolom loan:\n",
      "no     37967\n",
      "yes     7244\n",
      "Name: loan, dtype: int64\n",
      "\n",
      "Data Value count kolom contact:\n",
      "cellular     29285\n",
      "unknown      13020\n",
      "telephone     2906\n",
      "Name: contact, dtype: int64\n",
      "\n",
      "Data Value count kolom month:\n",
      "may    13766\n",
      "jul     6895\n",
      "aug     6247\n",
      "jun     5341\n",
      "nov     3970\n",
      "apr     2932\n",
      "feb     2649\n",
      "jan     1403\n",
      "oct      738\n",
      "sep      579\n",
      "mar      477\n",
      "dec      214\n",
      "Name: month, dtype: int64\n",
      "\n",
      "Data Value count kolom poutcome:\n",
      "unknown    36959\n",
      "failure     4901\n",
      "other       1840\n",
      "success     1511\n",
      "Name: poutcome, dtype: int64\n",
      "\n",
      "Data Value count kolom y:\n",
      "no     39922\n",
      "yes     5289\n",
      "Name: y, dtype: int64\n",
      "\n"
     ]
    }
   ],
   "source": [
    "for col in cats:\n",
    "    print(f'''Data Value count kolom {col}:''')\n",
    "    print(df_train[col].value_counts())\n",
    "    print()"
   ]
  },
  {
   "cell_type": "markdown",
   "metadata": {},
   "source": [
    "\n",
    "Gunakan function info dan describe pada dataset final project kalian. Tuliskan hasil\n",
    "observasinya, seperti:  \n",
    "A. Apakah ada kolom dengan tipe data kurang sesuai, atau nama kolom dan isinya\n",
    "kurang sesuai?  \n",
    "B. Apakah ada kolom yang memiliki nilai kosong? Jika ada, apa saja?  \n",
    "C. Apakah ada kolom yang memiliki nilai summary agak aneh?  \n",
    "(min/mean/median/max/unique/top/freq)"
   ]
  },
  {
   "cell_type": "markdown",
   "metadata": {},
   "source": [
    "### Jawaban\n",
    "A. Semua tipe data sudah sesuai  \n",
    "B. Tidak ada kolom yang memiliki nilai kosong  \n",
    "C. Terdapat kolom yang agak aneh karena memiliki nilai standard deviasi yang sangat tinggi yaitu pada kolom 'balance'"
   ]
  },
  {
   "cell_type": "markdown",
   "metadata": {
    "id": "SJB30JEvyojf"
   },
   "source": [
    "## Univariate Analysis"
   ]
  },
  {
   "cell_type": "code",
   "execution_count": 18,
   "metadata": {
    "colab": {
     "base_uri": "https://localhost:8080/",
     "height": 297
    },
    "id": "7csOhZ238Sfq",
    "outputId": "0cc8e5b7-3b8d-4551-e2bd-f792b629b563"
   },
   "outputs": [
    {
     "data": {
      "image/png": "[encoded data removed]",
      "text/plain": [
       "<Figure size 864x288 with 7 Axes>"
      ]
     },
     "metadata": {
      "needs_background": "light"
     },
     "output_type": "display_data"
    }
   ],
   "source": [
    "# Univariate analysis terhadap kolom numerikal menggunakan boxplot\n",
    "for i in range(0, len(nums)):\n",
    "  plt.subplot(1,len(nums),i+1)\n",
    "  sns.boxplot(y=df_train[nums[i]], color='blue', orient='v')\n",
    "  plt.tight_layout();"
   ]
  },
  {
   "cell_type": "markdown",
   "metadata": {},
   "source": [
    "diperoleh bahwa:\n",
    "1. Pada kelompok numerikal, hampir semua kolom memiliki banyak outlier.\n",
    "2. Pada kolom age tidak terlalu bermasalah karena hanya sebagian kecil saja yang menjadi outlier.\n",
    "3. Pada kolom balance, duration, campaign didominasi oleh nilai yang kecil. Variasi data yang banyak pada nilai tinggi membuat oulier menjadi semakin banyak.\n",
    "4. Pada kolom day tidak ada masalah.\n",
    "5. Pada kolom pdays memiliki nilai -1 (belum dihubungi sebelumnya) yang mendominasi yaitu 36954 dari 45211 baris atau sekitar 81% data sehingga kotak menjadi berpusat pada nilai -1 sehingga nilai-nilai diatas -1 menjadi oulier yang cukup banyak sekitar 19%.\n",
    "6. Pada kolom previous memiliki 0 yang mendominasi yang sesuai dengan nilai -1 pada kolom pdays karena nilai ini memiliki korelasi yang kuat. Sehingga selain dari nilai 0 akan menjadi outlier. Namun ada satu nilai yang benar-benar sangat jauh yaitu 275 (outlier ini dapat dihapus karena hanya satu saja dan jaraknya sangat jauh)\n",
    "7. Yang perlu di follow up saat data pre-processing dapat melakukan standarisasi ataupun normalisasi."
   ]
  },
  {
   "cell_type": "code",
   "execution_count": 19,
   "metadata": {
    "colab": {
     "base_uri": "https://localhost:8080/",
     "height": 202
    },
    "id": "I2N5kHfXAWYR",
    "outputId": "84cf4db5-5fb4-4d34-af15-845149c6529b"
   },
   "outputs": [
    {
     "data": {
      "image/png": "[encoded data removed]",
      "text/plain": [
       "<Figure size 1512x432 with 7 Axes>"
      ]
     },
     "metadata": {
      "needs_background": "light"
     },
     "output_type": "display_data"
    }
   ],
   "source": [
    "# # Univariate analysis terhadap kolom numerikal menggunakan distplot\n",
    "plt.figure(figsize=(21, 6))\n",
    "for i in range(0, len(nums)):\n",
    "    plt.subplot(2, 4, i+1)\n",
    "    sns.distplot(df_train[nums[i]], color='blue');\n",
    "    plt.tight_layout()"
   ]
  },
  {
   "cell_type": "code",
   "execution_count": 20,
   "metadata": {},
   "outputs": [
    {
     "name": "stdout",
     "output_type": "stream",
     "text": [
      "Skewness age : 0.6848179257252598\n",
      "Skewness balance : 8.360308326166326\n",
      "Skewness day : 0.09307901402122411\n",
      "Skewness duration : 3.144318099423456\n",
      "Skewness campaign : 4.898650166179674\n",
      "Skewness pdays : 2.6157154736563477\n",
      "Skewness previous : 41.84645447266292\n"
     ]
    }
   ],
   "source": [
    "#skewness value\n",
    "for i in range(0, len(nums)):\n",
    "    print(f\"Skewness {df_train[nums].columns[i]} : {df_train[nums[i]].skew()}\")"
   ]
  },
  {
   "cell_type": "markdown",
   "metadata": {},
   "source": [
    "Catatan :\n",
    "1. Dari nilai skewness dan visualisasi di atas dapat dikatakan bahwa tipe data numerikal memiliki pola persebaran datanya adalah skew postif dimana nilai mean lebih besar dari pada median, kecuali data day yang hampir menyerupai distribusi normal.\n",
    "2. Lonjakan pada gambar diatas menunjukkan jumlah yang paling dominan untuk setiap data kategorik"
   ]
  },
  {
   "cell_type": "code",
   "execution_count": 21,
   "metadata": {
    "colab": {
     "base_uri": "https://localhost:8080/",
     "height": 945
    },
    "id": "jeMdXZJc99Uy",
    "outputId": "657140d1-c23c-4b63-d90f-52538ea2ce36"
   },
   "outputs": [
    {
     "data": {
      "image/png": "[encoded data removed]",
      "text/plain": [
       "<Figure size 1152x936 with 9 Axes>"
      ]
     },
     "metadata": {
      "needs_background": "light"
     },
     "output_type": "display_data"
    }
   ],
   "source": [
    "plt.figure(figsize=(16, 13))\n",
    "for i in range(0, len(cats)-1):\n",
    "    df=df_train[cats[i]].value_counts().index\n",
    "    plt.subplot(3, 3, i+1)\n",
    "    sns.countplot(x=df_train[cats[i]],color='blue', orient='h',order=df)\n",
    "    plt.xticks(rotation=90)\n",
    "    plt.tight_layout()\n"
   ]
  },
  {
   "cell_type": "code",
   "execution_count": 22,
   "metadata": {},
   "outputs": [
    {
     "data": {
      "text/html": [
       "<div>\n",
       "<style scoped>\n",
       "    .dataframe tbody tr th:only-of-type {\n",
       "        vertical-align: middle;\n",
       "    }\n",
       "\n",
       "    .dataframe tbody tr th {\n",
       "        vertical-align: top;\n",
       "    }\n",
       "\n",
       "    .dataframe thead th {\n",
       "        text-align: right;\n",
       "    }\n",
       "</style>\n",
       "<table border=\"1\" class=\"dataframe\">\n",
       "  <thead>\n",
       "    <tr style=\"text-align: right;\">\n",
       "      <th></th>\n",
       "      <th>age</th>\n",
       "      <th>job</th>\n",
       "      <th>marital</th>\n",
       "      <th>education</th>\n",
       "      <th>default</th>\n",
       "      <th>balance</th>\n",
       "      <th>housing</th>\n",
       "      <th>loan</th>\n",
       "      <th>contact</th>\n",
       "      <th>day</th>\n",
       "      <th>month</th>\n",
       "      <th>duration</th>\n",
       "      <th>campaign</th>\n",
       "      <th>pdays</th>\n",
       "      <th>previous</th>\n",
       "      <th>poutcome</th>\n",
       "      <th>y</th>\n",
       "    </tr>\n",
       "  </thead>\n",
       "  <tbody>\n",
       "    <tr>\n",
       "      <th>40658</th>\n",
       "      <td>61</td>\n",
       "      <td>retired</td>\n",
       "      <td>married</td>\n",
       "      <td>tertiary</td>\n",
       "      <td>no</td>\n",
       "      <td>3140</td>\n",
       "      <td>yes</td>\n",
       "      <td>yes</td>\n",
       "      <td>cellular</td>\n",
       "      <td>6</td>\n",
       "      <td>aug</td>\n",
       "      <td>975</td>\n",
       "      <td>4</td>\n",
       "      <td>98</td>\n",
       "      <td>1</td>\n",
       "      <td>unknown</td>\n",
       "      <td>yes</td>\n",
       "    </tr>\n",
       "    <tr>\n",
       "      <th>41821</th>\n",
       "      <td>39</td>\n",
       "      <td>management</td>\n",
       "      <td>married</td>\n",
       "      <td>tertiary</td>\n",
       "      <td>no</td>\n",
       "      <td>184</td>\n",
       "      <td>no</td>\n",
       "      <td>no</td>\n",
       "      <td>cellular</td>\n",
       "      <td>15</td>\n",
       "      <td>oct</td>\n",
       "      <td>206</td>\n",
       "      <td>1</td>\n",
       "      <td>168</td>\n",
       "      <td>5</td>\n",
       "      <td>unknown</td>\n",
       "      <td>no</td>\n",
       "    </tr>\n",
       "    <tr>\n",
       "      <th>42042</th>\n",
       "      <td>26</td>\n",
       "      <td>admin.</td>\n",
       "      <td>single</td>\n",
       "      <td>secondary</td>\n",
       "      <td>no</td>\n",
       "      <td>338</td>\n",
       "      <td>no</td>\n",
       "      <td>no</td>\n",
       "      <td>cellular</td>\n",
       "      <td>29</td>\n",
       "      <td>oct</td>\n",
       "      <td>209</td>\n",
       "      <td>1</td>\n",
       "      <td>188</td>\n",
       "      <td>2</td>\n",
       "      <td>unknown</td>\n",
       "      <td>yes</td>\n",
       "    </tr>\n",
       "    <tr>\n",
       "      <th>43978</th>\n",
       "      <td>30</td>\n",
       "      <td>technician</td>\n",
       "      <td>single</td>\n",
       "      <td>secondary</td>\n",
       "      <td>no</td>\n",
       "      <td>254</td>\n",
       "      <td>yes</td>\n",
       "      <td>yes</td>\n",
       "      <td>cellular</td>\n",
       "      <td>24</td>\n",
       "      <td>jun</td>\n",
       "      <td>167</td>\n",
       "      <td>3</td>\n",
       "      <td>416</td>\n",
       "      <td>2</td>\n",
       "      <td>unknown</td>\n",
       "      <td>no</td>\n",
       "    </tr>\n",
       "    <tr>\n",
       "      <th>45021</th>\n",
       "      <td>37</td>\n",
       "      <td>management</td>\n",
       "      <td>married</td>\n",
       "      <td>secondary</td>\n",
       "      <td>no</td>\n",
       "      <td>209</td>\n",
       "      <td>no</td>\n",
       "      <td>no</td>\n",
       "      <td>cellular</td>\n",
       "      <td>14</td>\n",
       "      <td>oct</td>\n",
       "      <td>183</td>\n",
       "      <td>3</td>\n",
       "      <td>528</td>\n",
       "      <td>7</td>\n",
       "      <td>unknown</td>\n",
       "      <td>no</td>\n",
       "    </tr>\n",
       "  </tbody>\n",
       "</table>\n",
       "</div>"
      ],
      "text/plain": [
       "       age         job  marital  education default  balance housing loan  \\\n",
       "40658   61     retired  married   tertiary      no     3140     yes  yes   \n",
       "41821   39  management  married   tertiary      no      184      no   no   \n",
       "42042   26      admin.   single  secondary      no      338      no   no   \n",
       "43978   30  technician   single  secondary      no      254     yes  yes   \n",
       "45021   37  management  married  secondary      no      209      no   no   \n",
       "\n",
       "        contact  day month  duration  campaign  pdays  previous poutcome    y  \n",
       "40658  cellular    6   aug       975         4     98         1  unknown  yes  \n",
       "41821  cellular   15   oct       206         1    168         5  unknown   no  \n",
       "42042  cellular   29   oct       209         1    188         2  unknown  yes  \n",
       "43978  cellular   24   jun       167         3    416         2  unknown   no  \n",
       "45021  cellular   14   oct       183         3    528         7  unknown   no  "
      ]
     },
     "execution_count": 22,
     "metadata": {},
     "output_type": "execute_result"
    }
   ],
   "source": [
    "df_train[(df_train['poutcome'] == 'unknown') & (df_train['previous'] != 0)]"
   ]
  },
  {
   "cell_type": "markdown",
   "metadata": {},
   "source": [
    "catatan:  \n",
    "    1. **Mengubah poutcome pada dataframe diatas sesuai dengan kolom y dengan keterangan failure or success**  \n",
    "    2. **Mengganti unknown menjadi other**\n"
   ]
  },
  {
   "cell_type": "markdown",
   "metadata": {},
   "source": [
    "dari barplot disamping diperoleh bahwa dari keseluruhan data kategorik:\n",
    "1. klien yang terbanyak berprofesi sebagai management\n",
    "2. klien dengan status sudah menikah merupakan klien yang terbanyak\n",
    "3. pendidikan secondary merupakan yang paling banyak\n",
    "4. default no lebih banyak dibandingkan yes\n",
    "5. klient yang memiliki rumah lebih banyak daripada yang tidak memiliki rumah\n",
    "6. klien dengan status tidak ada pinjaman lebih banyak dibandingkan yang memiliki pinjaman\n",
    "7. klien lebih banyak dihubungi melalui cellular daripada telephone dan unknown\n",
    "8. bulan may merupakan bulan yang paling banyak dilakukan campaign\n",
    "9. hasil dari kampanye pemasaran sebelumnya yang paling banyak adalah unknown\n"
   ]
  },
  {
   "cell_type": "markdown",
   "metadata": {
    "id": "w6yacAhlytZo"
   },
   "source": [
    "## Multivariate Analysis"
   ]
  },
  {
   "cell_type": "code",
   "execution_count": 23,
   "metadata": {},
   "outputs": [
    {
     "data": {
      "image/png": "[encoded data removed]",
      "text/plain": [
       "<Figure size 1152x936 with 9 Axes>"
      ]
     },
     "metadata": {
      "needs_background": "light"
     },
     "output_type": "display_data"
    }
   ],
   "source": [
    "plt.figure(figsize=(16, 13))\n",
    "for i in range(0, len(cats)-1):\n",
    "    df=df_train[cats[i]].value_counts().index\n",
    "    plt.subplot(3, 3, i+1)\n",
    "    sns.countplot(x=df_train[cats[i]],hue=df_train['y'], orient='h',order=df)\n",
    "    plt.xticks(rotation=90)\n",
    "    plt.tight_layout()"
   ]
  },
  {
   "cell_type": "markdown",
   "metadata": {},
   "source": [
    "mengubah 'unknown' menjadi other"
   ]
  },
  {
   "cell_type": "code",
   "execution_count": 24,
   "metadata": {},
   "outputs": [
    {
     "name": "stdout",
     "output_type": "stream",
     "text": [
      "\u001b[1mjob \n",
      "--------------------\u001b[0m\n",
      "blue-collar      9732\n",
      "management       9458\n",
      "technician       7597\n",
      "admin.           5171\n",
      "services         4154\n",
      "retired          2264\n",
      "self-employed    1579\n",
      "entrepreneur     1487\n",
      "unemployed       1303\n",
      "housemaid        1240\n",
      "student           938\n",
      "unknown           288\n",
      "Name: job, dtype: int64 \n",
      "\n",
      "\u001b[1mmarital \n",
      "--------------------\u001b[0m\n",
      "married     27214\n",
      "single      12790\n",
      "divorced     5207\n",
      "Name: marital, dtype: int64 \n",
      "\n",
      "\u001b[1meducation \n",
      "--------------------\u001b[0m\n",
      "secondary    23202\n",
      "tertiary     13301\n",
      "primary       6851\n",
      "unknown       1857\n",
      "Name: education, dtype: int64 \n",
      "\n",
      "\u001b[1mdefault \n",
      "--------------------\u001b[0m\n",
      "no     44396\n",
      "yes      815\n",
      "Name: default, dtype: int64 \n",
      "\n",
      "\u001b[1mhousing \n",
      "--------------------\u001b[0m\n",
      "yes    25130\n",
      "no     20081\n",
      "Name: housing, dtype: int64 \n",
      "\n",
      "\u001b[1mloan \n",
      "--------------------\u001b[0m\n",
      "no     37967\n",
      "yes     7244\n",
      "Name: loan, dtype: int64 \n",
      "\n",
      "\u001b[1mcontact \n",
      "--------------------\u001b[0m\n",
      "cellular     29285\n",
      "unknown      13020\n",
      "telephone     2906\n",
      "Name: contact, dtype: int64 \n",
      "\n",
      "\u001b[1mmonth \n",
      "--------------------\u001b[0m\n",
      "may    13766\n",
      "jul     6895\n",
      "aug     6247\n",
      "jun     5341\n",
      "nov     3970\n",
      "apr     2932\n",
      "feb     2649\n",
      "jan     1403\n",
      "oct      738\n",
      "sep      579\n",
      "mar      477\n",
      "dec      214\n",
      "Name: month, dtype: int64 \n",
      "\n",
      "\u001b[1mpoutcome \n",
      "--------------------\u001b[0m\n",
      "unknown    36959\n",
      "failure     4901\n",
      "other       1840\n",
      "success     1511\n",
      "Name: poutcome, dtype: int64 \n",
      "\n",
      "\u001b[1my \n",
      "--------------------\u001b[0m\n",
      "no     39922\n",
      "yes     5289\n",
      "Name: y, dtype: int64 \n",
      "\n"
     ]
    }
   ],
   "source": [
    "for col in cats:\n",
    "    print(f\"\\033[1m{col} \\n{20 * '-'}\\033[0m\")\n",
    "    print(df_train[col].value_counts(), '\\n')"
   ]
  },
  {
   "cell_type": "markdown",
   "metadata": {},
   "source": [
    "**Grafik Job**  \n",
    "Pekerjaan 'blue-collar' memiliki jumlah nasabah yang tidak berlangganan paling tinggi sedangkan pekerjaan 'management' memiliki jumlah nasabah yang berlangganan paling tinggi. Untuk rasio tertinggi antara nasabah yang berlangganan dan tidak ada pada pekerjaan 'student'. Namun, secara keseluruhan nasabah yang tidak berlangganan selalu lebih tinggi dibandingkan nasabah yang berlangganan.\n",
    "\n",
    "**Grafik Marital**  \n",
    "Status 'marital' memiliki jumlah nasabah yang berlangganan dan tidak berlangganan tertinggi kemudian status 'single' dan 'divorced'\n",
    "\n",
    "**Grafik Education**  \n",
    "Pendidikan 'secondary' memiliki jumlah nasabah yang berlangganan dan tidak berlangganan tertinggi.\n",
    "\n",
    "**Grafik Default**  \n",
    "Nasabah yang belum memiliki kredit sebelumnya memiliki jumlah nasabah yang berlangganan dan tidak berlangganan tertinggi dibandingkan nasabah yang sudah memiliki kredit sebelumnya.\n",
    "\n",
    "**Grafik Housing**  \n",
    "Nasabah yang tidak memiliki cicilan rumah lebih banyak yang berlangganan dibandingkan nasabah yang memiliki cicilan rumah.\n",
    "\n",
    "**Grafik Loan**  \n",
    "Nasabah yang tidak memiliki pinjaman pribadi lebih banyak yang berlangganan dibandingkan nasabah yang memiliki pinjaman pribadi.\n",
    "\n",
    "**Grafik Contact**  \n",
    "Nasabah yang dihubungi menggunakan jenis komunikasi 'cellular' memiliki jumlah nasabah yang berlangganan paling banyak dibandingkan jenis komunikasi lain.\n",
    "\n",
    "**Grafik Month**  \n",
    "Bulan May memiliki nasabah yang berlangganan dan tidak paling tinggi dibandingkan bulan lainnya.\n",
    "\n",
    "**Grafik Poutcome**  \n",
    "Yang mengalami keberhasilan dari kampanye sebelumnya memiliki rasio pembukaan deposito tertinggi."
   ]
  },
  {
   "cell_type": "markdown",
   "metadata": {},
   "source": [
    "## 3. Multivariate Analysis"
   ]
  },
  {
   "cell_type": "markdown",
   "metadata": {},
   "source": [
    "Lakukan multivariate analysis (seperti correlation heatmap dan category plots, sesuai yang\n",
    "diajarkan di kelas). Tuliskan hasil observasinya, seperti:  \n",
    "A. Bagaimana korelasi antara masing-masing feature dan label. Kira-kira feature mana\n",
    "saja yang paling relevan dan harus dipertahankan?  \n",
    "B. Bagaimana korelasi antar-feature, apakah ada pola yang menarik? Apa yang perlu\n",
    "dilakukan terhadap feature itu?  \n",
    "* Tuliskan juga jika memang tidak ada feature yang saling berkorelasi"
   ]
  },
  {
   "cell_type": "code",
   "execution_count": 25,
   "metadata": {
    "colab": {
     "base_uri": "https://localhost:8080/",
     "height": 1000
    },
    "id": "vMlbWqnFMehg",
    "outputId": "ef6ee7ea-4ef3-40ba-982c-822ae5c64300"
   },
   "outputs": [],
   "source": [
    "# # Multivariate analysis terhadap kolom numerikal menggunakan pairplot\n",
    "# p=sns.pairplot(df_train,hue='y')"
   ]
  },
  {
   "cell_type": "markdown",
   "metadata": {},
   "source": [
    "A. Korelasi antar feature dan label lemah. Namun, semua feature dapat dimanfaatkan untuk melakukan analisis kecuali feature 'month' dan 'pdays'.\n",
    "\n"
   ]
  },
  {
   "cell_type": "code",
   "execution_count": 26,
   "metadata": {
    "colab": {
     "base_uri": "https://localhost:8080/",
     "height": 440
    },
    "id": "Kfn3qEvb-rFK",
    "outputId": "de647552-65aa-4af8-9f14-16fe58d1b195"
   },
   "outputs": [
    {
     "data": {
      "image/png": "[encoded data removed]",
      "text/plain": [
       "<Figure size 576x432 with 2 Axes>"
      ]
     },
     "metadata": {
      "needs_background": "light"
     },
     "output_type": "display_data"
    }
   ],
   "source": [
    "# Multivariate analysis terhadap kolom numerikal menggunakan Heatmap Correlation\n",
    "plt.figure(figsize=(8, 6))\n",
    "sns.heatmap(df_train.corr(),annot=True,cmap='Accent',linewidths=0.5);"
   ]
  },
  {
   "cell_type": "markdown",
   "metadata": {},
   "source": [
    "B. Korelasi antar feature kebanyakan lemah kecuali pada korelasi antara feature 'previous' dan 'pdays' yang cukup kuat dengan nilai 0.45. Semua feature dapat dimanfaatkan untuk melakukan analisis. "
   ]
  },
  {
   "cell_type": "markdown",
   "metadata": {
    "id": "NNmZ4IEuFFkZ"
   },
   "source": [
    "# Bussiness Insights and Visualization"
   ]
  },
  {
   "cell_type": "code",
   "execution_count": 27,
   "metadata": {},
   "outputs": [
    {
     "data": {
      "text/plain": [
       "age          3001\n",
       "job          3001\n",
       "marital      3001\n",
       "education    3001\n",
       "default      3001\n",
       "balance      3001\n",
       "housing      3001\n",
       "loan         3001\n",
       "contact      3001\n",
       "day          3001\n",
       "month        3001\n",
       "duration     3001\n",
       "campaign     3001\n",
       "pdays        3001\n",
       "previous     3001\n",
       "poutcome     3001\n",
       "y            3001\n",
       "dtype: int64"
      ]
     },
     "execution_count": 27,
     "metadata": {},
     "output_type": "execute_result"
    }
   ],
   "source": [
    "df_yes[(df_yes['duration'] >= 120) & (df_yes['duration'] <= 540)].count()\n"
   ]
  },
  {
   "cell_type": "code",
   "execution_count": 28,
   "metadata": {},
   "outputs": [
    {
     "data": {
      "text/plain": [
       "0.5674040461334846"
      ]
     },
     "execution_count": 28,
     "metadata": {},
     "output_type": "execute_result"
    }
   ],
   "source": [
    "3001/len(df_yes)"
   ]
  },
  {
   "cell_type": "markdown",
   "metadata": {},
   "source": [
    "### Duration Analysis on Term Deposit Account Subscriptions"
   ]
  },
  {
   "cell_type": "code",
   "execution_count": 29,
   "metadata": {},
   "outputs": [
    {
     "data": {
      "image/png": "[encoded data removed]",
      "text/plain": [
       "<Figure size 1224x648 with 1 Axes>"
      ]
     },
     "metadata": {
      "needs_background": "light"
     },
     "output_type": "display_data"
    }
   ],
   "source": [
    "df_plot = df_yes.groupby('duration').agg({'y':'count'}).reset_index().sort_values('y')\n",
    "\n",
    "fig, ax1 = plt.subplots()\n",
    "fig.set_figheight(9)\n",
    "fig.set_figwidth(17)\n",
    "\n",
    "sns.lineplot(data=df_plot, x='duration', y='y')\n",
    "plt.ylabel('Customer Count')\n",
    "plt.xlabel('Duration (Second)')\n",
    "plt.axvline(x=120, linewidth=2, color='red', linestyle='--')\n",
    "plt.axvline(x=540, linewidth=2, color='red', linestyle='--')\n",
    "plt.xlim(0, 3850)\n",
    "plt.ylim(0, 25)\n",
    "\n",
    "ax1.grid(which=\"major\", axis=\"y\", zorder=0, color=\"gray\", linestyle=\":\", dashes=(1, 5), alpha=0.5,)\n",
    "ax1.set_facecolor('whitesmoke')\n",
    "    \n",
    "plt.text(x = -0.65, y = 28, s = \"Durasi Ideal dalam Melakukan Telemarketing adalah 2 - 9 Menit\",\n",
    "               fontsize = 24, weight = 'bold', alpha = .75)\n",
    "plt.text(x = -0.65, y = 25.7,\n",
    "               s = '56.7% dari seluruh nasabah yang membuka depostio, melakukan komunikasi telemarketing selama 2 - 9 menit \\natau (120 - 540 Detik).',\n",
    "              fontsize = 18, alpha = .85)\n",
    "plt.text(x = -0.65, y = -3,\n",
    "    s = 'Data Source: https://www.kaggle.com/datasets/prakharrathi25/banking-dataset-marketing-targets',fontsize = 14, color = '#f0f0f0', backgroundcolor = 'grey')\n",
    "\n",
    "plt.annotate('', xy =(122, 20.5),\n",
    "                xytext =(539, 20.5), \n",
    "                arrowprops = dict(arrowstyle=\"<->\", connectionstyle=\"arc3\", color='r', lw=3),\n",
    "                fontsize=13)\n",
    "\n",
    "plt.text(x = 210, y = 21.5,\n",
    "    s = 'Durasi\\nTelemarketing\\nIdeal',fontsize = 10, bbox = dict(boxstyle =\"round\", fc =\"1\", color='r'))\n",
    "#plt.savefig('bizinsight1.png')\n",
    "plt.show()\n"
   ]
  },
  {
   "cell_type": "markdown",
   "metadata": {},
   "source": [
    "### Number of Contact During this Campaign Analysis on Term Deposit Account Subscriptions"
   ]
  },
  {
   "cell_type": "code",
   "execution_count": 30,
   "metadata": {},
   "outputs": [
    {
     "data": {
      "text/plain": [
       "age          4580\n",
       "job          4580\n",
       "marital      4580\n",
       "education    4580\n",
       "default      4580\n",
       "balance      4580\n",
       "housing      4580\n",
       "loan         4580\n",
       "contact      4580\n",
       "day          4580\n",
       "month        4580\n",
       "duration     4580\n",
       "campaign     4580\n",
       "pdays        4580\n",
       "previous     4580\n",
       "poutcome     4580\n",
       "y            4580\n",
       "dtype: int64"
      ]
     },
     "execution_count": 30,
     "metadata": {},
     "output_type": "execute_result"
    }
   ],
   "source": [
    "df_yes[(df_yes['campaign'] >= 1) & (df_yes['campaign'] <= 3)].count()"
   ]
  },
  {
   "cell_type": "code",
   "execution_count": 31,
   "metadata": {},
   "outputs": [
    {
     "data": {
      "text/plain": [
       "0.8659481943656646"
      ]
     },
     "execution_count": 31,
     "metadata": {},
     "output_type": "execute_result"
    }
   ],
   "source": [
    "4580/len(df_yes)"
   ]
  },
  {
   "cell_type": "code",
   "execution_count": 32,
   "metadata": {},
   "outputs": [
    {
     "data": {
      "image/png": "[encoded data removed]",
      "text/plain": [
       "<Figure size 1224x648 with 1 Axes>"
      ]
     },
     "metadata": {
      "needs_background": "light"
     },
     "output_type": "display_data"
    }
   ],
   "source": [
    "from matplotlib.patches import Rectangle\n",
    "\n",
    "df_plot = df_yes.groupby('campaign').agg({'y':'count'}).reset_index().sort_values('y')\n",
    "\n",
    "fig, ax1 = plt.subplots()\n",
    "fig.set_figheight(9)\n",
    "fig.set_figwidth(17)\n",
    "\n",
    "sns.lineplot(data=df_plot, x='campaign', y='y')\n",
    "plt.ylabel('Customer Count')\n",
    "plt.xlabel('Campaign')\n",
    "plt.axvline(x=1, linewidth=2, color='red', linestyle='--')\n",
    "plt.axvline(x=3, linewidth=2, color='red', linestyle='--')\n",
    "ax1.hlines(xmin=1, xmax=3, y=2695, linewidth=2, color='red', linestyle='--')\n",
    "ax1.hlines(xmin=1, xmax=3, y=0, linewidth=2, color='red', linestyle='--')\n",
    "plt.xlim(0, 40)\n",
    "plt.ylim(-1, 2700)\n",
    "\n",
    "ax1.grid(which=\"major\", axis=\"y\", zorder=0, color=\"gray\", linestyle=\":\", dashes=(1, 5), alpha=0.5,)\n",
    "ax1.set_facecolor('whitesmoke')\n",
    "    \n",
    "plt.text(x = 0, y = 2950, s = \"Nasabah yang Membuka Deposito Idealnya Dihubungi Sebanyak 1 - 3 Kali\",\n",
    "               fontsize = 24, weight = 'bold', alpha = .75)\n",
    "plt.text(x = 0, y = 2800,\n",
    "               s = '86.6% dari seluruh nasabah yang membuka deposito dihubungi sebanyak 1 - 3 kali.',\n",
    "              fontsize = 18, alpha = .85)\n",
    "plt.text(x = 0, y = -300,\n",
    "    s = 'Data Source: https://www.kaggle.com/datasets/prakharrathi25/banking-dataset-marketing-targets',fontsize = 14, color = '#f0f0f0', backgroundcolor = 'grey')\n",
    "\n",
    "plt.annotate('Range Campaign Ideal', xy =(3, 1250),\n",
    "                xytext =(5, 1500), \n",
    "                arrowprops = dict(arrowstyle=\"->\", connectionstyle=\"arc3\", color='r', lw=3),\n",
    "                fontsize=13, bbox = dict(boxstyle =\"round\", fc =\"1\", color='r'))\n",
    "\n",
    "\n",
    "# plt.text(x = -0.65, y = 21.5,\n",
    "#     s = 'Ideal\\nTelemarketing\\nDuration',fontsize = 10, bbox = dict(boxstyle =\"round\", fc =\"1\", color='r'))\n",
    "# plt.savefig('bizinsight2.png')\n",
    "plt.show()"
   ]
  },
  {
   "cell_type": "markdown",
   "metadata": {},
   "source": [
    "### Customer Age Analysis on Term Deposit Account Subscriptions"
   ]
  },
  {
   "cell_type": "code",
   "execution_count": 33,
   "metadata": {},
   "outputs": [
    {
     "data": {
      "text/plain": [
       "age          2750\n",
       "job          2750\n",
       "marital      2750\n",
       "education    2750\n",
       "default      2750\n",
       "balance      2750\n",
       "housing      2750\n",
       "loan         2750\n",
       "contact      2750\n",
       "day          2750\n",
       "month        2750\n",
       "duration     2750\n",
       "campaign     2750\n",
       "pdays        2750\n",
       "previous     2750\n",
       "poutcome     2750\n",
       "y            2750\n",
       "dtype: int64"
      ]
     },
     "execution_count": 33,
     "metadata": {},
     "output_type": "execute_result"
    }
   ],
   "source": [
    "df_yes[(df_yes['age'] >= 25) & (df_yes['age'] <= 40)].count()"
   ]
  },
  {
   "cell_type": "code",
   "execution_count": 34,
   "metadata": {},
   "outputs": [
    {
     "data": {
      "text/plain": [
       "0.5199470599357157"
      ]
     },
     "execution_count": 34,
     "metadata": {},
     "output_type": "execute_result"
    }
   ],
   "source": [
    "2750/len(df_yes)"
   ]
  },
  {
   "cell_type": "code",
   "execution_count": 35,
   "metadata": {},
   "outputs": [
    {
     "data": {
      "image/png": "[encoded data removed]",
      "text/plain": [
       "<Figure size 1224x648 with 1 Axes>"
      ]
     },
     "metadata": {
      "needs_background": "light"
     },
     "output_type": "display_data"
    }
   ],
   "source": [
    "df_plot = df_yes.groupby('age').agg({'y':'count'}).reset_index().sort_values('y')\n",
    "\n",
    "fig, ax1 = plt.subplots()\n",
    "fig.set_figheight(9)\n",
    "fig.set_figwidth(17)\n",
    "\n",
    "sns.lineplot(data=df_plot, x='age', y='y')\n",
    "plt.ylabel('Customer Count')\n",
    "plt.xlabel('Age (Year)')\n",
    "plt.axvline(x=25, linewidth=2, color='red', linestyle='--')\n",
    "plt.axvline(x=40, linewidth=2, color='red', linestyle='--')\n",
    "plt.xlim(18, 95)\n",
    "plt.ylim(0, 250)\n",
    "\n",
    "ax1.grid(which=\"major\", axis=\"y\", zorder=0, color=\"gray\", linestyle=\":\", dashes=(1, 5), alpha=0.5,)\n",
    "ax1.set_facecolor('whitesmoke')\n",
    "    \n",
    "plt.text(x = 18, y = 270, s = \"Rentang Usia Nasabah yang Berpotensi Membuka Deposito adalah 25 - 40 Tahun\",\n",
    "               fontsize = 24, weight = 'bold', alpha = .75)\n",
    "plt.text(x = 18, y = 255,\n",
    "               s = 'Lebih dari setengah nasabah yang membuka akun deposito berada pada rentang usia 25 - 40 Tahun.',\n",
    "              fontsize = 18, alpha = .85)\n",
    "plt.text(x = 18, y = -30,\n",
    "    s = 'Data Source: https://www.kaggle.com/datasets/prakharrathi25/banking-dataset-marketing-targets',fontsize = 14, color = '#f0f0f0', backgroundcolor = 'grey')\n",
    "\n",
    "plt.annotate('', xy =(25, 100),\n",
    "                xytext =(40, 100), \n",
    "                arrowprops = dict(arrowstyle=\"<->\", connectionstyle=\"arc3\", color='r', lw=3),\n",
    "                fontsize=13)\n",
    "\n",
    "plt.text(x = 28, y = 110,\n",
    "    s = 'Usia Nasabah Ideal',fontsize = 13, bbox = dict(boxstyle =\"round\", fc =\"1\", color='r'))\n",
    "#plt.savefig('bizinsight3.png')\n",
    "plt.show()"
   ]
  },
  {
   "cell_type": "markdown",
   "metadata": {},
   "source": [
    "## Data prepocessing"
   ]
  },
  {
   "cell_type": "code",
   "execution_count": 36,
   "metadata": {},
   "outputs": [],
   "source": [
    "df = pd.concat([df_train, df_test])"
   ]
  },
  {
   "cell_type": "code",
   "execution_count": 37,
   "metadata": {},
   "outputs": [],
   "source": [
    "# pemisahan data kategorik dan numerikal\n",
    "# 'day' tidak dimasukan dalam numeric, karena tidak ada outlier\n",
    "\n",
    "l_num = ['age','balance','duration','campaign','previous','pdays', 'age']\n",
    "l_cat = ['job','contact','marital','education','default','housing','loan','y','poutcome','month']"
   ]
  },
  {
   "cell_type": "markdown",
   "metadata": {},
   "source": [
    "### Menghapus Outlier"
   ]
  },
  {
   "cell_type": "code",
   "execution_count": 38,
   "metadata": {},
   "outputs": [
    {
     "name": "stdout",
     "output_type": "stream",
     "text": [
      "jumlah data awal adalah:  45211\n",
      "jumlah data setelah remove outlier adalah:  43488\n"
     ]
    }
   ],
   "source": [
    "for i in l_num[:-1]:\n",
    "  z_score = np.abs(st.zscore(df_train[i]))\n",
    "  tz = (z_score < 3)\n",
    "  train_zs = df_train[tz]\n",
    "print('jumlah data awal adalah: ', len(df_train))\n",
    "print('jumlah data setelah remove outlier adalah: ',len(train_zs))"
   ]
  },
  {
   "cell_type": "code",
   "execution_count": 39,
   "metadata": {},
   "outputs": [
    {
     "name": "stdout",
     "output_type": "stream",
     "text": [
      "Skewness age : 0.6796600960587791\n",
      "Skewness balance : 8.368933204430894\n",
      "Skewness duration : 3.16379682743452\n",
      "Skewness campaign : 4.869959507985715\n",
      "Skewness previous : 48.26116310795627\n",
      "Skewness pdays : 2.6927364184456315\n",
      "Skewness age : 0.6796600960587791\n"
     ]
    }
   ],
   "source": [
    "#skewness value\n",
    "for i in range(0, len(l_num)):\n",
    "    print(f\"Skewness {train_zs[l_num].columns[i]} : {train_zs[l_num[i]].skew()}\")"
   ]
  },
  {
   "cell_type": "code",
   "execution_count": 40,
   "metadata": {},
   "outputs": [
    {
     "name": "stdout",
     "output_type": "stream",
     "text": [
      "minimun dari age 18\n",
      "minimun dari balance -8019\n",
      "minimun dari duration 0\n",
      "minimun dari campaign 1\n",
      "minimun dari previous 0\n",
      "minimun dari pdays -1\n",
      "minimun dari age 18\n"
     ]
    }
   ],
   "source": [
    "for i in l_num:\n",
    "  print('minimun dari',i, min(train_zs[i]))"
   ]
  },
  {
   "cell_type": "markdown",
   "metadata": {},
   "source": [
    "sebelumnya diketahui bahwa data numerik cenderung memiliki skew positif. Namun demikian solusi log transformation tidak dapat dilakukan karena terdapat nilai negatif dan 0 yang cukup banyak sehingga akan menyebabkan bias nantinya."
   ]
  },
  {
   "cell_type": "markdown",
   "metadata": {},
   "source": [
    "### Cek distribusi normal atau tidak dengan Kolmogorov-Smirnov Test"
   ]
  },
  {
   "cell_type": "code",
   "execution_count": 41,
   "metadata": {},
   "outputs": [],
   "source": [
    "import math\n",
    "from scipy.stats import kstest"
   ]
  },
  {
   "cell_type": "code",
   "execution_count": 42,
   "metadata": {},
   "outputs": [
    {
     "name": "stdout",
     "output_type": "stream",
     "text": [
      "statistics=1.000, pvalue=0.00000000\n",
      "statistics=0.829, pvalue=0.00000000\n",
      "statistics=1.000, pvalue=0.00000000\n",
      "statistics=0.841, pvalue=0.00000000\n",
      "statistics=0.500, pvalue=0.00000000\n",
      "statistics=0.691, pvalue=0.00000000\n",
      "statistics=1.000, pvalue=0.00000000\n"
     ]
    }
   ],
   "source": [
    "for i in l_num:\n",
    "  statistics,pvalue = kstest(train_zs[i],'norm')\n",
    "  print('statistics=%.3f, pvalue=%.8f' % (statistics,pvalue))"
   ]
  },
  {
   "cell_type": "markdown",
   "metadata": {},
   "source": [
    "dari nilai pvalue yang <= 0.05 sehingga hipotesis nol ditolak dan distribusi yang ada bukanlah normal/gausian. Berdasarkan referensi metode yang cocok untuk distribusi data tidak normal/gaussian adalah dengan normalisasi. Sehingga dalam hal ini data numerik akan dilakukan normalisasi"
   ]
  },
  {
   "cell_type": "markdown",
   "metadata": {},
   "source": [
    "## Data Numeric"
   ]
  },
  {
   "cell_type": "markdown",
   "metadata": {},
   "source": [
    "### Normalisasi Feature"
   ]
  },
  {
   "cell_type": "code",
   "execution_count": 43,
   "metadata": {},
   "outputs": [],
   "source": [
    "norm = MinMaxScaler()"
   ]
  },
  {
   "cell_type": "code",
   "execution_count": 44,
   "metadata": {},
   "outputs": [],
   "source": [
    "for i in l_num:\n",
    "  train_zs['norm_'+i] = norm.fit_transform(train_zs[i].values.reshape(len(train_zs),1))"
   ]
  },
  {
   "cell_type": "code",
   "execution_count": 45,
   "metadata": {},
   "outputs": [
    {
     "data": {
      "text/html": [
       "<div>\n",
       "<style scoped>\n",
       "    .dataframe tbody tr th:only-of-type {\n",
       "        vertical-align: middle;\n",
       "    }\n",
       "\n",
       "    .dataframe tbody tr th {\n",
       "        vertical-align: top;\n",
       "    }\n",
       "\n",
       "    .dataframe thead th {\n",
       "        text-align: right;\n",
       "    }\n",
       "</style>\n",
       "<table border=\"1\" class=\"dataframe\">\n",
       "  <thead>\n",
       "    <tr style=\"text-align: right;\">\n",
       "      <th></th>\n",
       "      <th>age</th>\n",
       "      <th>job</th>\n",
       "      <th>marital</th>\n",
       "      <th>education</th>\n",
       "      <th>default</th>\n",
       "      <th>balance</th>\n",
       "      <th>housing</th>\n",
       "      <th>loan</th>\n",
       "      <th>contact</th>\n",
       "      <th>day</th>\n",
       "      <th>...</th>\n",
       "      <th>pdays</th>\n",
       "      <th>previous</th>\n",
       "      <th>poutcome</th>\n",
       "      <th>y</th>\n",
       "      <th>norm_age</th>\n",
       "      <th>norm_balance</th>\n",
       "      <th>norm_duration</th>\n",
       "      <th>norm_campaign</th>\n",
       "      <th>norm_previous</th>\n",
       "      <th>norm_pdays</th>\n",
       "    </tr>\n",
       "  </thead>\n",
       "  <tbody>\n",
       "    <tr>\n",
       "      <th>18952</th>\n",
       "      <td>52</td>\n",
       "      <td>management</td>\n",
       "      <td>married</td>\n",
       "      <td>tertiary</td>\n",
       "      <td>no</td>\n",
       "      <td>809</td>\n",
       "      <td>no</td>\n",
       "      <td>no</td>\n",
       "      <td>cellular</td>\n",
       "      <td>4</td>\n",
       "      <td>...</td>\n",
       "      <td>-1</td>\n",
       "      <td>0</td>\n",
       "      <td>unknown</td>\n",
       "      <td>no</td>\n",
       "      <td>0.441558</td>\n",
       "      <td>0.080148</td>\n",
       "      <td>0.024603</td>\n",
       "      <td>0.000000</td>\n",
       "      <td>0.0</td>\n",
       "      <td>0.0</td>\n",
       "    </tr>\n",
       "    <tr>\n",
       "      <th>23479</th>\n",
       "      <td>39</td>\n",
       "      <td>technician</td>\n",
       "      <td>married</td>\n",
       "      <td>tertiary</td>\n",
       "      <td>no</td>\n",
       "      <td>-204</td>\n",
       "      <td>yes</td>\n",
       "      <td>no</td>\n",
       "      <td>cellular</td>\n",
       "      <td>28</td>\n",
       "      <td>...</td>\n",
       "      <td>-1</td>\n",
       "      <td>0</td>\n",
       "      <td>unknown</td>\n",
       "      <td>no</td>\n",
       "      <td>0.272727</td>\n",
       "      <td>0.070951</td>\n",
       "      <td>0.029280</td>\n",
       "      <td>0.048387</td>\n",
       "      <td>0.0</td>\n",
       "      <td>0.0</td>\n",
       "    </tr>\n",
       "    <tr>\n",
       "      <th>17951</th>\n",
       "      <td>43</td>\n",
       "      <td>services</td>\n",
       "      <td>married</td>\n",
       "      <td>secondary</td>\n",
       "      <td>no</td>\n",
       "      <td>-1</td>\n",
       "      <td>no</td>\n",
       "      <td>no</td>\n",
       "      <td>cellular</td>\n",
       "      <td>30</td>\n",
       "      <td>...</td>\n",
       "      <td>-1</td>\n",
       "      <td>0</td>\n",
       "      <td>unknown</td>\n",
       "      <td>no</td>\n",
       "      <td>0.324675</td>\n",
       "      <td>0.072794</td>\n",
       "      <td>0.123017</td>\n",
       "      <td>0.016129</td>\n",
       "      <td>0.0</td>\n",
       "      <td>0.0</td>\n",
       "    </tr>\n",
       "    <tr>\n",
       "      <th>29277</th>\n",
       "      <td>26</td>\n",
       "      <td>services</td>\n",
       "      <td>single</td>\n",
       "      <td>secondary</td>\n",
       "      <td>no</td>\n",
       "      <td>37</td>\n",
       "      <td>no</td>\n",
       "      <td>yes</td>\n",
       "      <td>cellular</td>\n",
       "      <td>2</td>\n",
       "      <td>...</td>\n",
       "      <td>-1</td>\n",
       "      <td>0</td>\n",
       "      <td>unknown</td>\n",
       "      <td>no</td>\n",
       "      <td>0.103896</td>\n",
       "      <td>0.073139</td>\n",
       "      <td>0.044530</td>\n",
       "      <td>0.064516</td>\n",
       "      <td>0.0</td>\n",
       "      <td>0.0</td>\n",
       "    </tr>\n",
       "    <tr>\n",
       "      <th>6949</th>\n",
       "      <td>38</td>\n",
       "      <td>blue-collar</td>\n",
       "      <td>single</td>\n",
       "      <td>unknown</td>\n",
       "      <td>no</td>\n",
       "      <td>241</td>\n",
       "      <td>yes</td>\n",
       "      <td>no</td>\n",
       "      <td>unknown</td>\n",
       "      <td>28</td>\n",
       "      <td>...</td>\n",
       "      <td>-1</td>\n",
       "      <td>0</td>\n",
       "      <td>unknown</td>\n",
       "      <td>no</td>\n",
       "      <td>0.259740</td>\n",
       "      <td>0.074991</td>\n",
       "      <td>0.034974</td>\n",
       "      <td>0.016129</td>\n",
       "      <td>0.0</td>\n",
       "      <td>0.0</td>\n",
       "    </tr>\n",
       "  </tbody>\n",
       "</table>\n",
       "<p>5 rows × 23 columns</p>\n",
       "</div>"
      ],
      "text/plain": [
       "       age          job  marital  education default  balance housing loan  \\\n",
       "18952   52   management  married   tertiary      no      809      no   no   \n",
       "23479   39   technician  married   tertiary      no     -204     yes   no   \n",
       "17951   43     services  married  secondary      no       -1      no   no   \n",
       "29277   26     services   single  secondary      no       37      no  yes   \n",
       "6949    38  blue-collar   single    unknown      no      241     yes   no   \n",
       "\n",
       "        contact  day  ... pdays  previous  poutcome   y  norm_age  \\\n",
       "18952  cellular    4  ...    -1         0   unknown  no  0.441558   \n",
       "23479  cellular   28  ...    -1         0   unknown  no  0.272727   \n",
       "17951  cellular   30  ...    -1         0   unknown  no  0.324675   \n",
       "29277  cellular    2  ...    -1         0   unknown  no  0.103896   \n",
       "6949    unknown   28  ...    -1         0   unknown  no  0.259740   \n",
       "\n",
       "      norm_balance norm_duration  norm_campaign  norm_previous  norm_pdays  \n",
       "18952     0.080148      0.024603       0.000000            0.0         0.0  \n",
       "23479     0.070951      0.029280       0.048387            0.0         0.0  \n",
       "17951     0.072794      0.123017       0.016129            0.0         0.0  \n",
       "29277     0.073139      0.044530       0.064516            0.0         0.0  \n",
       "6949      0.074991      0.034974       0.016129            0.0         0.0  \n",
       "\n",
       "[5 rows x 23 columns]"
      ]
     },
     "execution_count": 45,
     "metadata": {},
     "output_type": "execute_result"
    }
   ],
   "source": [
    "train_zs.sample(5)"
   ]
  },
  {
   "cell_type": "markdown",
   "metadata": {},
   "source": [
    "## Data Categoric"
   ]
  },
  {
   "cell_type": "markdown",
   "metadata": {
    "tags": []
   },
   "source": [
    "### Encoding"
   ]
  },
  {
   "cell_type": "markdown",
   "metadata": {},
   "source": [
    "encoding dilakukan pada data yang bersifat yes/no atau pada data yang bersifat ordinal (bertingkat)"
   ]
  },
  {
   "cell_type": "code",
   "execution_count": 46,
   "metadata": {},
   "outputs": [],
   "source": [
    "#map\n",
    "m_ed = {\"unknown\" : 0,\n",
    "        \"primary\" : 1,\n",
    "        \"secondary\" : 2,\n",
    "        \"tertiary\" : 3\n",
    "        }\n",
    "m_yn = {\"no\" : 0,\n",
    "        \"yes\" : 1\n",
    "        }"
   ]
  },
  {
   "cell_type": "code",
   "execution_count": 47,
   "metadata": {},
   "outputs": [],
   "source": [
    "mzn = ['default','housing','loan','y']"
   ]
  },
  {
   "cell_type": "code",
   "execution_count": 48,
   "metadata": {},
   "outputs": [],
   "source": [
    "for i in mzn:\n",
    "  train_zs['num_'+i] = train_zs[i].map(m_yn)"
   ]
  },
  {
   "cell_type": "code",
   "execution_count": 49,
   "metadata": {},
   "outputs": [],
   "source": [
    "train_zs['num_education'] = train_zs['education'].map(m_ed)"
   ]
  },
  {
   "cell_type": "code",
   "execution_count": 50,
   "metadata": {},
   "outputs": [
    {
     "data": {
      "text/html": [
       "<div>\n",
       "<style scoped>\n",
       "    .dataframe tbody tr th:only-of-type {\n",
       "        vertical-align: middle;\n",
       "    }\n",
       "\n",
       "    .dataframe tbody tr th {\n",
       "        vertical-align: top;\n",
       "    }\n",
       "\n",
       "    .dataframe thead th {\n",
       "        text-align: right;\n",
       "    }\n",
       "</style>\n",
       "<table border=\"1\" class=\"dataframe\">\n",
       "  <thead>\n",
       "    <tr style=\"text-align: right;\">\n",
       "      <th></th>\n",
       "      <th>age</th>\n",
       "      <th>job</th>\n",
       "      <th>marital</th>\n",
       "      <th>education</th>\n",
       "      <th>default</th>\n",
       "      <th>balance</th>\n",
       "      <th>housing</th>\n",
       "      <th>loan</th>\n",
       "      <th>contact</th>\n",
       "      <th>day</th>\n",
       "      <th>...</th>\n",
       "      <th>norm_balance</th>\n",
       "      <th>norm_duration</th>\n",
       "      <th>norm_campaign</th>\n",
       "      <th>norm_previous</th>\n",
       "      <th>norm_pdays</th>\n",
       "      <th>num_default</th>\n",
       "      <th>num_housing</th>\n",
       "      <th>num_loan</th>\n",
       "      <th>num_y</th>\n",
       "      <th>num_education</th>\n",
       "    </tr>\n",
       "  </thead>\n",
       "  <tbody>\n",
       "    <tr>\n",
       "      <th>34195</th>\n",
       "      <td>34</td>\n",
       "      <td>management</td>\n",
       "      <td>single</td>\n",
       "      <td>tertiary</td>\n",
       "      <td>no</td>\n",
       "      <td>1058</td>\n",
       "      <td>yes</td>\n",
       "      <td>no</td>\n",
       "      <td>cellular</td>\n",
       "      <td>4</td>\n",
       "      <td>...</td>\n",
       "      <td>0.082409</td>\n",
       "      <td>0.048800</td>\n",
       "      <td>0.0</td>\n",
       "      <td>0.0</td>\n",
       "      <td>0.0</td>\n",
       "      <td>0</td>\n",
       "      <td>1</td>\n",
       "      <td>0</td>\n",
       "      <td>0</td>\n",
       "      <td>3</td>\n",
       "    </tr>\n",
       "    <tr>\n",
       "      <th>30330</th>\n",
       "      <td>57</td>\n",
       "      <td>unemployed</td>\n",
       "      <td>married</td>\n",
       "      <td>secondary</td>\n",
       "      <td>no</td>\n",
       "      <td>7357</td>\n",
       "      <td>no</td>\n",
       "      <td>no</td>\n",
       "      <td>cellular</td>\n",
       "      <td>5</td>\n",
       "      <td>...</td>\n",
       "      <td>0.139597</td>\n",
       "      <td>0.122814</td>\n",
       "      <td>0.0</td>\n",
       "      <td>0.0</td>\n",
       "      <td>0.0</td>\n",
       "      <td>0</td>\n",
       "      <td>0</td>\n",
       "      <td>0</td>\n",
       "      <td>0</td>\n",
       "      <td>2</td>\n",
       "    </tr>\n",
       "    <tr>\n",
       "      <th>3723</th>\n",
       "      <td>51</td>\n",
       "      <td>technician</td>\n",
       "      <td>married</td>\n",
       "      <td>secondary</td>\n",
       "      <td>no</td>\n",
       "      <td>143</td>\n",
       "      <td>yes</td>\n",
       "      <td>no</td>\n",
       "      <td>unknown</td>\n",
       "      <td>16</td>\n",
       "      <td>...</td>\n",
       "      <td>0.074102</td>\n",
       "      <td>0.127491</td>\n",
       "      <td>0.0</td>\n",
       "      <td>0.0</td>\n",
       "      <td>0.0</td>\n",
       "      <td>0</td>\n",
       "      <td>1</td>\n",
       "      <td>0</td>\n",
       "      <td>0</td>\n",
       "      <td>2</td>\n",
       "    </tr>\n",
       "    <tr>\n",
       "      <th>13528</th>\n",
       "      <td>60</td>\n",
       "      <td>retired</td>\n",
       "      <td>married</td>\n",
       "      <td>unknown</td>\n",
       "      <td>no</td>\n",
       "      <td>2150</td>\n",
       "      <td>yes</td>\n",
       "      <td>yes</td>\n",
       "      <td>cellular</td>\n",
       "      <td>9</td>\n",
       "      <td>...</td>\n",
       "      <td>0.092323</td>\n",
       "      <td>0.024197</td>\n",
       "      <td>0.0</td>\n",
       "      <td>0.0</td>\n",
       "      <td>0.0</td>\n",
       "      <td>0</td>\n",
       "      <td>1</td>\n",
       "      <td>1</td>\n",
       "      <td>0</td>\n",
       "      <td>0</td>\n",
       "    </tr>\n",
       "    <tr>\n",
       "      <th>14047</th>\n",
       "      <td>34</td>\n",
       "      <td>management</td>\n",
       "      <td>married</td>\n",
       "      <td>tertiary</td>\n",
       "      <td>no</td>\n",
       "      <td>161</td>\n",
       "      <td>yes</td>\n",
       "      <td>no</td>\n",
       "      <td>cellular</td>\n",
       "      <td>11</td>\n",
       "      <td>...</td>\n",
       "      <td>0.074265</td>\n",
       "      <td>0.076861</td>\n",
       "      <td>0.0</td>\n",
       "      <td>0.0</td>\n",
       "      <td>0.0</td>\n",
       "      <td>0</td>\n",
       "      <td>1</td>\n",
       "      <td>0</td>\n",
       "      <td>0</td>\n",
       "      <td>3</td>\n",
       "    </tr>\n",
       "  </tbody>\n",
       "</table>\n",
       "<p>5 rows × 28 columns</p>\n",
       "</div>"
      ],
      "text/plain": [
       "       age         job  marital  education default  balance housing loan  \\\n",
       "34195   34  management   single   tertiary      no     1058     yes   no   \n",
       "30330   57  unemployed  married  secondary      no     7357      no   no   \n",
       "3723    51  technician  married  secondary      no      143     yes   no   \n",
       "13528   60     retired  married    unknown      no     2150     yes  yes   \n",
       "14047   34  management  married   tertiary      no      161     yes   no   \n",
       "\n",
       "        contact  day  ... norm_balance  norm_duration  norm_campaign  \\\n",
       "34195  cellular    4  ...     0.082409       0.048800            0.0   \n",
       "30330  cellular    5  ...     0.139597       0.122814            0.0   \n",
       "3723    unknown   16  ...     0.074102       0.127491            0.0   \n",
       "13528  cellular    9  ...     0.092323       0.024197            0.0   \n",
       "14047  cellular   11  ...     0.074265       0.076861            0.0   \n",
       "\n",
       "       norm_previous  norm_pdays num_default num_housing  num_loan  num_y  \\\n",
       "34195            0.0         0.0           0           1         0      0   \n",
       "30330            0.0         0.0           0           0         0      0   \n",
       "3723             0.0         0.0           0           1         0      0   \n",
       "13528            0.0         0.0           0           1         1      0   \n",
       "14047            0.0         0.0           0           1         0      0   \n",
       "\n",
       "       num_education  \n",
       "34195              3  \n",
       "30330              2  \n",
       "3723               2  \n",
       "13528              0  \n",
       "14047              3  \n",
       "\n",
       "[5 rows x 28 columns]"
      ]
     },
     "execution_count": 50,
     "metadata": {},
     "output_type": "execute_result"
    }
   ],
   "source": [
    "train_zs.sample(5)"
   ]
  },
  {
   "cell_type": "markdown",
   "metadata": {
    "tags": []
   },
   "source": [
    "### One Hot Encoding"
   ]
  },
  {
   "cell_type": "markdown",
   "metadata": {},
   "source": [
    "dilakukan pada data kategori yang bersifat non ordinal"
   ]
  },
  {
   "cell_type": "code",
   "execution_count": 51,
   "metadata": {},
   "outputs": [],
   "source": [
    "ls_ohe = ['job','contact','marital','poutcome','month']"
   ]
  },
  {
   "cell_type": "code",
   "execution_count": 52,
   "metadata": {},
   "outputs": [],
   "source": [
    "for i in ls_ohe:\n",
    "  ohe = pd.get_dummies(train_zs[i],prefix=i)\n",
    "  train_zs = train_zs.join(ohe)"
   ]
  },
  {
   "cell_type": "code",
   "execution_count": 55,
   "metadata": {},
   "outputs": [
    {
     "data": {
      "text/html": [
       "<div>\n",
       "<style scoped>\n",
       "    .dataframe tbody tr th:only-of-type {\n",
       "        vertical-align: middle;\n",
       "    }\n",
       "\n",
       "    .dataframe tbody tr th {\n",
       "        vertical-align: top;\n",
       "    }\n",
       "\n",
       "    .dataframe thead th {\n",
       "        text-align: right;\n",
       "    }\n",
       "</style>\n",
       "<table border=\"1\" class=\"dataframe\">\n",
       "  <thead>\n",
       "    <tr style=\"text-align: right;\">\n",
       "      <th></th>\n",
       "      <th>age</th>\n",
       "      <th>job</th>\n",
       "      <th>marital</th>\n",
       "      <th>education</th>\n",
       "      <th>default</th>\n",
       "      <th>balance</th>\n",
       "      <th>housing</th>\n",
       "      <th>loan</th>\n",
       "      <th>contact</th>\n",
       "      <th>day</th>\n",
       "      <th>...</th>\n",
       "      <th>month_dec</th>\n",
       "      <th>month_feb</th>\n",
       "      <th>month_jan</th>\n",
       "      <th>month_jul</th>\n",
       "      <th>month_jun</th>\n",
       "      <th>month_mar</th>\n",
       "      <th>month_may</th>\n",
       "      <th>month_nov</th>\n",
       "      <th>month_oct</th>\n",
       "      <th>month_sep</th>\n",
       "    </tr>\n",
       "  </thead>\n",
       "  <tbody>\n",
       "    <tr>\n",
       "      <th>1496</th>\n",
       "      <td>50</td>\n",
       "      <td>management</td>\n",
       "      <td>divorced</td>\n",
       "      <td>tertiary</td>\n",
       "      <td>no</td>\n",
       "      <td>704</td>\n",
       "      <td>yes</td>\n",
       "      <td>no</td>\n",
       "      <td>unknown</td>\n",
       "      <td>8</td>\n",
       "      <td>...</td>\n",
       "      <td>0</td>\n",
       "      <td>0</td>\n",
       "      <td>0</td>\n",
       "      <td>0</td>\n",
       "      <td>0</td>\n",
       "      <td>0</td>\n",
       "      <td>1</td>\n",
       "      <td>0</td>\n",
       "      <td>0</td>\n",
       "      <td>0</td>\n",
       "    </tr>\n",
       "    <tr>\n",
       "      <th>23551</th>\n",
       "      <td>50</td>\n",
       "      <td>services</td>\n",
       "      <td>married</td>\n",
       "      <td>secondary</td>\n",
       "      <td>no</td>\n",
       "      <td>1545</td>\n",
       "      <td>no</td>\n",
       "      <td>no</td>\n",
       "      <td>cellular</td>\n",
       "      <td>28</td>\n",
       "      <td>...</td>\n",
       "      <td>0</td>\n",
       "      <td>0</td>\n",
       "      <td>0</td>\n",
       "      <td>0</td>\n",
       "      <td>0</td>\n",
       "      <td>0</td>\n",
       "      <td>0</td>\n",
       "      <td>0</td>\n",
       "      <td>0</td>\n",
       "      <td>0</td>\n",
       "    </tr>\n",
       "    <tr>\n",
       "      <th>2964</th>\n",
       "      <td>56</td>\n",
       "      <td>blue-collar</td>\n",
       "      <td>married</td>\n",
       "      <td>secondary</td>\n",
       "      <td>no</td>\n",
       "      <td>881</td>\n",
       "      <td>yes</td>\n",
       "      <td>no</td>\n",
       "      <td>unknown</td>\n",
       "      <td>14</td>\n",
       "      <td>...</td>\n",
       "      <td>0</td>\n",
       "      <td>0</td>\n",
       "      <td>0</td>\n",
       "      <td>0</td>\n",
       "      <td>0</td>\n",
       "      <td>0</td>\n",
       "      <td>1</td>\n",
       "      <td>0</td>\n",
       "      <td>0</td>\n",
       "      <td>0</td>\n",
       "    </tr>\n",
       "    <tr>\n",
       "      <th>42991</th>\n",
       "      <td>57</td>\n",
       "      <td>housemaid</td>\n",
       "      <td>married</td>\n",
       "      <td>primary</td>\n",
       "      <td>no</td>\n",
       "      <td>501</td>\n",
       "      <td>yes</td>\n",
       "      <td>yes</td>\n",
       "      <td>cellular</td>\n",
       "      <td>11</td>\n",
       "      <td>...</td>\n",
       "      <td>0</td>\n",
       "      <td>1</td>\n",
       "      <td>0</td>\n",
       "      <td>0</td>\n",
       "      <td>0</td>\n",
       "      <td>0</td>\n",
       "      <td>0</td>\n",
       "      <td>0</td>\n",
       "      <td>0</td>\n",
       "      <td>0</td>\n",
       "    </tr>\n",
       "    <tr>\n",
       "      <th>44453</th>\n",
       "      <td>29</td>\n",
       "      <td>housemaid</td>\n",
       "      <td>single</td>\n",
       "      <td>tertiary</td>\n",
       "      <td>no</td>\n",
       "      <td>2196</td>\n",
       "      <td>no</td>\n",
       "      <td>no</td>\n",
       "      <td>cellular</td>\n",
       "      <td>5</td>\n",
       "      <td>...</td>\n",
       "      <td>0</td>\n",
       "      <td>0</td>\n",
       "      <td>0</td>\n",
       "      <td>0</td>\n",
       "      <td>0</td>\n",
       "      <td>0</td>\n",
       "      <td>0</td>\n",
       "      <td>0</td>\n",
       "      <td>0</td>\n",
       "      <td>0</td>\n",
       "    </tr>\n",
       "  </tbody>\n",
       "</table>\n",
       "<p>5 rows × 62 columns</p>\n",
       "</div>"
      ],
      "text/plain": [
       "       age          job   marital  education default  balance housing loan  \\\n",
       "1496    50   management  divorced   tertiary      no      704     yes   no   \n",
       "23551   50     services   married  secondary      no     1545      no   no   \n",
       "2964    56  blue-collar   married  secondary      no      881     yes   no   \n",
       "42991   57    housemaid   married    primary      no      501     yes  yes   \n",
       "44453   29    housemaid    single   tertiary      no     2196      no   no   \n",
       "\n",
       "        contact  day  ... month_dec  month_feb  month_jan  month_jul  \\\n",
       "1496    unknown    8  ...         0          0          0          0   \n",
       "23551  cellular   28  ...         0          0          0          0   \n",
       "2964    unknown   14  ...         0          0          0          0   \n",
       "42991  cellular   11  ...         0          1          0          0   \n",
       "44453  cellular    5  ...         0          0          0          0   \n",
       "\n",
       "       month_jun month_mar month_may  month_nov  month_oct  month_sep  \n",
       "1496           0         0         1          0          0          0  \n",
       "23551          0         0         0          0          0          0  \n",
       "2964           0         0         1          0          0          0  \n",
       "42991          0         0         0          0          0          0  \n",
       "44453          0         0         0          0          0          0  \n",
       "\n",
       "[5 rows x 62 columns]"
      ]
     },
     "execution_count": 55,
     "metadata": {},
     "output_type": "execute_result"
    }
   ],
   "source": [
    "train_zs.sample(5)"
   ]
  },
  {
   "cell_type": "markdown",
   "metadata": {
    "tags": []
   },
   "source": [
    "### Drop kolom"
   ]
  },
  {
   "cell_type": "markdown",
   "metadata": {
    "tags": []
   },
   "source": [
    "menghapus kolom-kolom yang bersifat kategori dan kolom-kolom asli numerik"
   ]
  },
  {
   "cell_type": "code",
   "execution_count": 56,
   "metadata": {},
   "outputs": [],
   "source": [
    "ls_drop = ['age','balance','duration','month','campaign','previous','pdays','job','contact','marital','education','default','housing','loan','y','poutcome']"
   ]
  },
  {
   "cell_type": "code",
   "execution_count": 57,
   "metadata": {},
   "outputs": [],
   "source": [
    "train_zs = train_zs.drop(ls_drop, axis=1)"
   ]
  },
  {
   "cell_type": "code",
   "execution_count": 58,
   "metadata": {},
   "outputs": [
    {
     "data": {
      "text/html": [
       "<div>\n",
       "<style scoped>\n",
       "    .dataframe tbody tr th:only-of-type {\n",
       "        vertical-align: middle;\n",
       "    }\n",
       "\n",
       "    .dataframe tbody tr th {\n",
       "        vertical-align: top;\n",
       "    }\n",
       "\n",
       "    .dataframe thead th {\n",
       "        text-align: right;\n",
       "    }\n",
       "</style>\n",
       "<table border=\"1\" class=\"dataframe\">\n",
       "  <thead>\n",
       "    <tr style=\"text-align: right;\">\n",
       "      <th></th>\n",
       "      <th>day</th>\n",
       "      <th>norm_age</th>\n",
       "      <th>norm_balance</th>\n",
       "      <th>norm_duration</th>\n",
       "      <th>norm_campaign</th>\n",
       "      <th>norm_previous</th>\n",
       "      <th>norm_pdays</th>\n",
       "      <th>num_default</th>\n",
       "      <th>num_housing</th>\n",
       "      <th>num_loan</th>\n",
       "      <th>...</th>\n",
       "      <th>month_dec</th>\n",
       "      <th>month_feb</th>\n",
       "      <th>month_jan</th>\n",
       "      <th>month_jul</th>\n",
       "      <th>month_jun</th>\n",
       "      <th>month_mar</th>\n",
       "      <th>month_may</th>\n",
       "      <th>month_nov</th>\n",
       "      <th>month_oct</th>\n",
       "      <th>month_sep</th>\n",
       "    </tr>\n",
       "  </thead>\n",
       "  <tbody>\n",
       "    <tr>\n",
       "      <th>37194</th>\n",
       "      <td>13</td>\n",
       "      <td>0.233766</td>\n",
       "      <td>0.090680</td>\n",
       "      <td>0.017690</td>\n",
       "      <td>0.000000</td>\n",
       "      <td>0.000000</td>\n",
       "      <td>0.000000</td>\n",
       "      <td>0</td>\n",
       "      <td>1</td>\n",
       "      <td>1</td>\n",
       "      <td>...</td>\n",
       "      <td>0</td>\n",
       "      <td>0</td>\n",
       "      <td>0</td>\n",
       "      <td>0</td>\n",
       "      <td>0</td>\n",
       "      <td>0</td>\n",
       "      <td>1</td>\n",
       "      <td>0</td>\n",
       "      <td>0</td>\n",
       "      <td>0</td>\n",
       "    </tr>\n",
       "    <tr>\n",
       "      <th>13077</th>\n",
       "      <td>8</td>\n",
       "      <td>0.519481</td>\n",
       "      <td>0.075200</td>\n",
       "      <td>0.106344</td>\n",
       "      <td>0.032258</td>\n",
       "      <td>0.000000</td>\n",
       "      <td>0.000000</td>\n",
       "      <td>0</td>\n",
       "      <td>1</td>\n",
       "      <td>1</td>\n",
       "      <td>...</td>\n",
       "      <td>0</td>\n",
       "      <td>0</td>\n",
       "      <td>0</td>\n",
       "      <td>1</td>\n",
       "      <td>0</td>\n",
       "      <td>0</td>\n",
       "      <td>0</td>\n",
       "      <td>0</td>\n",
       "      <td>0</td>\n",
       "      <td>0</td>\n",
       "    </tr>\n",
       "    <tr>\n",
       "      <th>2307</th>\n",
       "      <td>12</td>\n",
       "      <td>0.324675</td>\n",
       "      <td>0.085523</td>\n",
       "      <td>0.039650</td>\n",
       "      <td>0.016129</td>\n",
       "      <td>0.000000</td>\n",
       "      <td>0.000000</td>\n",
       "      <td>0</td>\n",
       "      <td>1</td>\n",
       "      <td>0</td>\n",
       "      <td>...</td>\n",
       "      <td>0</td>\n",
       "      <td>0</td>\n",
       "      <td>0</td>\n",
       "      <td>0</td>\n",
       "      <td>0</td>\n",
       "      <td>0</td>\n",
       "      <td>1</td>\n",
       "      <td>0</td>\n",
       "      <td>0</td>\n",
       "      <td>0</td>\n",
       "    </tr>\n",
       "    <tr>\n",
       "      <th>25519</th>\n",
       "      <td>19</td>\n",
       "      <td>0.168831</td>\n",
       "      <td>0.069481</td>\n",
       "      <td>0.063644</td>\n",
       "      <td>0.000000</td>\n",
       "      <td>0.003636</td>\n",
       "      <td>0.530792</td>\n",
       "      <td>0</td>\n",
       "      <td>1</td>\n",
       "      <td>0</td>\n",
       "      <td>...</td>\n",
       "      <td>0</td>\n",
       "      <td>0</td>\n",
       "      <td>0</td>\n",
       "      <td>0</td>\n",
       "      <td>0</td>\n",
       "      <td>0</td>\n",
       "      <td>0</td>\n",
       "      <td>1</td>\n",
       "      <td>0</td>\n",
       "      <td>0</td>\n",
       "    </tr>\n",
       "    <tr>\n",
       "      <th>19513</th>\n",
       "      <td>7</td>\n",
       "      <td>0.363636</td>\n",
       "      <td>0.075627</td>\n",
       "      <td>0.045750</td>\n",
       "      <td>0.080645</td>\n",
       "      <td>0.000000</td>\n",
       "      <td>0.000000</td>\n",
       "      <td>0</td>\n",
       "      <td>0</td>\n",
       "      <td>0</td>\n",
       "      <td>...</td>\n",
       "      <td>0</td>\n",
       "      <td>0</td>\n",
       "      <td>0</td>\n",
       "      <td>0</td>\n",
       "      <td>0</td>\n",
       "      <td>0</td>\n",
       "      <td>0</td>\n",
       "      <td>0</td>\n",
       "      <td>0</td>\n",
       "      <td>0</td>\n",
       "    </tr>\n",
       "  </tbody>\n",
       "</table>\n",
       "<p>5 rows × 46 columns</p>\n",
       "</div>"
      ],
      "text/plain": [
       "       day  norm_age  norm_balance  norm_duration  norm_campaign  \\\n",
       "37194   13  0.233766      0.090680       0.017690       0.000000   \n",
       "13077    8  0.519481      0.075200       0.106344       0.032258   \n",
       "2307    12  0.324675      0.085523       0.039650       0.016129   \n",
       "25519   19  0.168831      0.069481       0.063644       0.000000   \n",
       "19513    7  0.363636      0.075627       0.045750       0.080645   \n",
       "\n",
       "       norm_previous  norm_pdays  num_default  num_housing  num_loan  ...  \\\n",
       "37194       0.000000    0.000000            0            1         1  ...   \n",
       "13077       0.000000    0.000000            0            1         1  ...   \n",
       "2307        0.000000    0.000000            0            1         0  ...   \n",
       "25519       0.003636    0.530792            0            1         0  ...   \n",
       "19513       0.000000    0.000000            0            0         0  ...   \n",
       "\n",
       "       month_dec  month_feb  month_jan  month_jul  month_jun  month_mar  \\\n",
       "37194          0          0          0          0          0          0   \n",
       "13077          0          0          0          1          0          0   \n",
       "2307           0          0          0          0          0          0   \n",
       "25519          0          0          0          0          0          0   \n",
       "19513          0          0          0          0          0          0   \n",
       "\n",
       "       month_may  month_nov  month_oct  month_sep  \n",
       "37194          1          0          0          0  \n",
       "13077          0          0          0          0  \n",
       "2307           1          0          0          0  \n",
       "25519          0          1          0          0  \n",
       "19513          0          0          0          0  \n",
       "\n",
       "[5 rows x 46 columns]"
      ]
     },
     "execution_count": 58,
     "metadata": {},
     "output_type": "execute_result"
    }
   ],
   "source": [
    "train_zs.sample(5)"
   ]
  },
  {
   "cell_type": "code",
   "execution_count": 59,
   "metadata": {},
   "outputs": [
    {
     "data": {
      "image/png": "[encoded data removed]",
      "text/plain": [
       "<Figure size 1080x792 with 2 Axes>"
      ]
     },
     "metadata": {
      "needs_background": "light"
     },
     "output_type": "display_data"
    }
   ],
   "source": [
    "plt.figure(figsize=(15, 11))\n",
    "sns.heatmap(train_zs.corr(),cmap='seismic',vmax=1,vmin=-1,linewidths=0.5);"
   ]
  },
  {
   "cell_type": "code",
   "execution_count": 60,
   "metadata": {},
   "outputs": [],
   "source": [
    "from imblearn.over_sampling import SMOTE"
   ]
  },
  {
   "cell_type": "code",
   "execution_count": 61,
   "metadata": {},
   "outputs": [
    {
     "name": "stdout",
     "output_type": "stream",
     "text": [
      "(43488, 45)\n",
      "(43488,)\n"
     ]
    }
   ],
   "source": [
    "#Pemisahan data fitur dan target\n",
    "x_train = train_zs.drop('num_y', axis=1)\n",
    "Y_train = train_zs['num_y']\n",
    "print(x_train.shape)\n",
    "print(Y_train.shape)"
   ]
  },
  {
   "cell_type": "code",
   "execution_count": 63,
   "metadata": {},
   "outputs": [
    {
     "name": "stdout",
     "output_type": "stream",
     "text": [
      "sebelum oversampling : \n",
      "0    38471\n",
      "1     5017\n",
      "Name: num_y, dtype: int64\n",
      "sesudah oversampling : \n",
      "0    38471\n",
      "1    38471\n",
      "Name: num_y, dtype: int64\n"
     ]
    }
   ],
   "source": [
    "#cek data sebelum dan sesudah oversampling\n",
    "print('sebelum oversampling : ')\n",
    "print(pd.Series(Y_train).value_counts())\n",
    "print('sesudah oversampling : ')\n",
    "print(pd.Series(Y_over).value_counts())"
   ]
  },
  {
   "cell_type": "markdown",
   "metadata": {},
   "source": [
    "# Stage 3"
   ]
  },
  {
   "cell_type": "markdown",
   "metadata": {},
   "source": [
    "## Split Data Train & Test"
   ]
  },
  {
   "cell_type": "code",
   "execution_count": 64,
   "metadata": {},
   "outputs": [],
   "source": [
    "from sklearn.model_selection import train_test_split\n",
    "\n",
    "X = train_zs.drop(columns=['num_y'])\n",
    "y = train_zs['num_y']\n",
    "\n",
    "X_train, X_test, y_train, y_test = train_test_split(X, y, test_size=0.3, random_state=42)"
   ]
  },
  {
   "cell_type": "markdown",
   "metadata": {},
   "source": [
    "## Handle imbalance data target"
   ]
  },
  {
   "cell_type": "code",
   "execution_count": 89,
   "metadata": {},
   "outputs": [],
   "source": [
    "#handle imbalance dengan over sampling\n",
    "X_train_over, y_train_over = SMOTE().fit_resample(X_train, y_train)"
   ]
  },
  {
   "cell_type": "markdown",
   "metadata": {
    "tags": []
   },
   "source": [
    "## Modeling"
   ]
  },
  {
   "cell_type": "code",
   "execution_count": 108,
   "metadata": {},
   "outputs": [],
   "source": [
    "# Membuat Fungction\n",
    "from sklearn.linear_model import LogisticRegression\n",
    "from sklearn.ensemble import AdaBoostClassifier\n",
    "from sklearn.ensemble import RandomForestClassifier\n",
    "from sklearn.tree import DecisionTreeClassifier\n",
    "\n",
    "from sklearn import metrics\n",
    "from sklearn.metrics import classification_report\n",
    "from sklearn.metrics import confusion_matrix\n",
    "from sklearn.model_selection import cross_validate\n",
    "\n",
    "def comparation(models):\n",
    "    acc_list = []\n",
    "    prec_list = []\n",
    "    rec_list = []\n",
    "    auc_list = []\n",
    "    cm_list = []\n",
    "    f1_score_value = []\n",
    "    roc_auc_train= []\n",
    "    roc_auc_test = []\n",
    "    roc_auc_crossval_train = []\n",
    "    roc_auc_crossval_test = []\n",
    "\n",
    "    for model in models:\n",
    "        model.fit(X_train, y_train)\n",
    "        y_pred = model.predict(X_test)\n",
    "        y_pred_train = model.predict(X_train)\n",
    "        y_pred_proba = model.predict_proba(X_test)\n",
    "        y_pred_proba_train = model.predict_proba(X_train)\n",
    "        acc_list.append(metrics.accuracy_score(y_test, y_pred))\n",
    "        prec_list.append(metrics.precision_score(y_test, y_pred))\n",
    "        rec_list.append(metrics.recall_score(y_test, y_pred))\n",
    "        f1_score_value.append(metrics.f1_score(y_test, y_pred))\n",
    "        roc_auc_train.append(metrics.roc_auc_score(y_train, y_pred_proba_train[:, 1]))\n",
    "        roc_auc_test.append(metrics.roc_auc_score(y_test, y_pred_proba[:, 1]))\n",
    "        score = cross_validate(model, X, y, cv=5, scoring='roc_auc', return_train_score=True)\n",
    "        roc_auc_crossval_train.append(str(score['train_score'].mean()))\n",
    "        roc_auc_crossval_test.append(str(score['test_score'].mean()))\n",
    "\n",
    "def eval_classification(model,ml):\n",
    "    y_pred = model.predict(X_test)\n",
    "    y_pred_train = model.predict(X_train_over)\n",
    "    y_pred_proba = model.predict_proba(X_test)\n",
    "    y_pred_proba_train = model.predict_proba(X_train_over)\n",
    "    \n",
    "    print(\"Eval Classification : \",ml)\n",
    "    print(\"Accuracy (Test Set): %.2f\" % accuracy_score(y_test, y_pred))\n",
    "    print(\"Precision (Test Set): %.2f\" % precision_score(y_test, y_pred))\n",
    "    print(\"Recall (Test Set): %.2f\" % recall_score(y_test, y_pred))\n",
    "    print(\"F1-Score (Test Set): %.2f\" % f1_score(y_test, y_pred))\n",
    "    \n",
    "    print(\"roc_auc (test-proba): %.2f\" % roc_auc_score(y_test, y_pred_proba[:, 1]))\n",
    "    print(\"roc_auc (train-proba): %.2f\" % roc_auc_score(y_train_over, y_pred_proba_train[:, 1]))\n",
    "\n",
    "    score = cross_validate(model, X, y, cv=5, scoring='roc_auc', return_train_score=True)\n",
    "    print('roc_auc (crossval train): '+ str(score['train_score'].mean()))\n",
    "    print('roc_auc (crossval test): '+ str(score['test_score'].mean()))\n",
    "\n",
    "\n",
    "def show_feature_importance(model):\n",
    "    feat_importances = pd.Series(model.feature_importances_, index=X.columns)\n",
    "    ax = feat_importances.nlargest(25).plot(kind='barh', figsize=(10, 8))\n",
    "    ax.invert_yaxis()\n",
    "\n",
    "    plt.xlabel('score')\n",
    "    plt.ylabel('feature')\n",
    "    plt.title('feature importance score')\n",
    "\n",
    "def show_best_hyperparameter(model):\n",
    "    print(model.best_estimator_.get_params())\n",
    "\n",
    "\n",
    "def draw_learning_curve_RForest(param_values):\n",
    "    train_scores = []\n",
    "    test_scores = []\n",
    "\n",
    "    for c in param_values:\n",
    "        model = RandomForestClassifier(random_state=35,n_estimators=24,criterion='gini',max_depth=9,min_samples_split=c,min_samples_leaf=34)\n",
    "        model.fit(X_train, y_train)\n",
    "\n",
    "        # eval on train\n",
    "        y_pred_train_proba = model.predict_proba(X_train)\n",
    "        train_auc = roc_auc_score(y_train, y_pred_train_proba[:,1])\n",
    "        train_scores.append(train_auc)\n",
    "\n",
    "        # eval on test\n",
    "        y_pred_proba = model.predict_proba(X_test)\n",
    "        test_auc = roc_auc_score(y_test, y_pred_proba[:,1])\n",
    "        test_scores.append(test_auc)\n",
    "\n",
    "        print('param value: ' + str(c) + '; train: ' + str(train_auc) + '; test: '+ str(test_auc))\n",
    "\n",
    "    plt.plot(param_values, train_scores, label='Train')\n",
    "    plt.plot(param_values, test_scores, label='Test')\n",
    "    plt.legend()\n",
    "    plt.show()\n",
    "def draw_learning_curve_tree(param_values):\n",
    "    train_scores = []\n",
    "    test_scores = []\n",
    "\n",
    "    for c in param_values:\n",
    "        model = DecisionTreeClassifier(random_state=42,criterion='gini',max_depth=6,min_samples_split=20,min_samples_leaf =50)\n",
    "        model.fit(X_train, y_train)\n",
    "\n",
    "        # eval on train\n",
    "        y_pred_train_proba = model.predict_proba(X_train)\n",
    "        train_auc = roc_auc_score(y_train, y_pred_train_proba[:,1])\n",
    "        train_scores.append(train_auc)\n",
    "\n",
    "        # eval on test\n",
    "        y_pred_proba = model.predict_proba(X_test)\n",
    "        test_auc = roc_auc_score(y_test, y_pred_proba[:,1])\n",
    "        test_scores.append(test_auc)\n",
    "\n",
    "        print('param value: ' + str(c) + '; train: ' + str(train_auc) + '; test: '+ str(test_auc))\n",
    "\n",
    "    plt.plot(param_values, train_scores, label='Train')\n",
    "    plt.plot(param_values, test_scores, label='Test')\n",
    "    plt.legend()\n",
    "    plt.show()\n",
    "def draw_learning_curve_lr(param_values):\n",
    "\n",
    "    train_scores = []\n",
    "    test_scores = []\n",
    "\n",
    "    for c in param_values:\n",
    "        model = LogisticRegression(penalty='l2',C=c,class_weight='balanced')\n",
    "        model.fit(X_train, y_train)\n",
    "\n",
    "        # eval on train\n",
    "        y_pred_train_proba = model.predict_proba(X_train)\n",
    "        train_auc = roc_auc_score(y_train, y_pred_train_proba[:,1])\n",
    "        train_scores.append(train_auc)\n",
    "\n",
    "        # eval on test\n",
    "        y_pred_proba = model.predict_proba(X_test)\n",
    "        test_auc = roc_auc_score(y_test, y_pred_proba[:,1])\n",
    "        test_scores.append(test_auc)\n",
    "\n",
    "        print('param value: ' + str(c) + '; train: ' + str(train_auc) + '; test: '+ str(test_auc))\n",
    "\n",
    "    plt.plot(param_values, train_scores, label='Train')\n",
    "    plt.plot(param_values, test_scores, label='Test')\n",
    "    plt.xlabel('C')\n",
    "    plt.ylabel('AUC')\n",
    "    plt.title('Learning Curve - Hyperparameter C - Logistic Regression')\n",
    "    plt.legend()\n",
    "    plt.show()\n",
    "def draw_learning_curve_adaboost(param_values):\n",
    "\n",
    "    train_scores = []\n",
    "    test_scores = []\n",
    "\n",
    "    for c in param_values:\n",
    "        model = AdaBoostClassifier(n_estimators=c)\n",
    "        model.fit(X_train, y_train)\n",
    "\n",
    "        # eval on train\n",
    "        y_pred_train_proba = model.predict_proba(X_train)\n",
    "        train_auc = roc_auc_score(y_train, y_pred_train_proba[:,1])\n",
    "        train_scores.append(train_auc)\n",
    "\n",
    "        # eval on test\n",
    "        y_pred_proba = model.predict_proba(X_test)\n",
    "        test_auc = roc_auc_score(y_test, y_pred_proba[:,1])\n",
    "        test_scores.append(test_auc)\n",
    "\n",
    "        print('param value: ' + str(c) + '; train: ' + str(train_auc) + '; test: '+ str(test_auc))\n",
    "\n",
    "    plt.plot(param_values, train_scores, label='Train')\n",
    "    plt.plot(param_values, test_scores, label='Test')\n",
    "    plt.xlabel('C')\n",
    "    plt.ylabel('AUC')\n",
    "    plt.title('Learning Curve - Hyperparameter C - Logistic Regression')\n",
    "    plt.legend()\n",
    "    plt.show()"
   ]
  },
  {
   "cell_type": "code",
   "execution_count": 100,
   "metadata": {},
   "outputs": [],
   "source": [
    "models = []\n",
    "models.append(LogisticRegression(class_weight='balanced', random_state=42))\n",
    "models.append(DecisionTreeClassifier(random_state=42))\n",
    "models.append(RandomForestClassifier(random_state=42))\n",
    "models.append(AdaBoostClassifier(random_state=42))\n",
    "model_list = ['Logistic Regression', 'DecisionTreeClassifier','RandomForestClassifier','AdaBoostClassifier']\n",
    "\n",
    "acc_list = []\n",
    "prec_list = []\n",
    "rec_list = []\n",
    "auc_list = []\n",
    "cm_list = []\n",
    "f1_score_value = []\n",
    "roc_auc_train= []\n",
    "roc_auc_test = []\n",
    "roc_auc_crossval_train = []\n",
    "roc_auc_crossval_test = []\n",
    "\n",
    "for model in models:\n",
    "    model.fit(X_train_over, y_train_over)\n",
    "    y_pred = model.predict(X_test)\n",
    "    y_pred_train = model.predict(X_train_over)\n",
    "    y_pred_proba = model.predict_proba(X_test)\n",
    "    y_pred_proba_train = model.predict_proba(X_train_over)\n",
    "    acc_list.append(metrics.accuracy_score(y_test, y_pred))\n",
    "    prec_list.append(metrics.precision_score(y_test, y_pred))\n",
    "    rec_list.append(metrics.recall_score(y_test, y_pred))\n",
    "    f1_score_value.append(metrics.f1_score(y_test, y_pred))\n",
    "    roc_auc_train.append(metrics.roc_auc_score(y_train_over, y_pred_proba_train[:, 1]))\n",
    "    roc_auc_test.append(metrics.roc_auc_score(y_test, y_pred_proba[:, 1]))\n",
    "    score = cross_validate(model, X, y, cv=3, scoring='roc_auc', return_train_score=True)\n",
    "    roc_auc_crossval_train.append(str(score['train_score'].mean()))\n",
    "    roc_auc_crossval_test.append(str(score['test_score'].mean()))"
   ]
  },
  {
   "cell_type": "code",
   "execution_count": 101,
   "metadata": {},
   "outputs": [
    {
     "data": {
      "text/html": [
       "<div>\n",
       "<style scoped>\n",
       "    .dataframe tbody tr th:only-of-type {\n",
       "        vertical-align: middle;\n",
       "    }\n",
       "\n",
       "    .dataframe tbody tr th {\n",
       "        vertical-align: top;\n",
       "    }\n",
       "\n",
       "    .dataframe thead th {\n",
       "        text-align: right;\n",
       "    }\n",
       "</style>\n",
       "<table border=\"1\" class=\"dataframe\">\n",
       "  <thead>\n",
       "    <tr style=\"text-align: right;\">\n",
       "      <th></th>\n",
       "      <th>Model</th>\n",
       "      <th>Accuracy</th>\n",
       "      <th>Precision</th>\n",
       "      <th>Recall</th>\n",
       "      <th>f1_score</th>\n",
       "      <th>roc_auc_train</th>\n",
       "      <th>roc_auc_test</th>\n",
       "      <th>roc_auc_crossval_train</th>\n",
       "      <th>roc_auc_crossval_test</th>\n",
       "    </tr>\n",
       "  </thead>\n",
       "  <tbody>\n",
       "    <tr>\n",
       "      <th>0</th>\n",
       "      <td>RandomForestClassifier</td>\n",
       "      <td>0.897371</td>\n",
       "      <td>0.542576</td>\n",
       "      <td>0.664883</td>\n",
       "      <td>0.597535</td>\n",
       "      <td>1.000000</td>\n",
       "      <td>0.925763</td>\n",
       "      <td>1.0</td>\n",
       "      <td>0.42750649183446693</td>\n",
       "    </tr>\n",
       "    <tr>\n",
       "      <th>1</th>\n",
       "      <td>Logistic Regression</td>\n",
       "      <td>0.896528</td>\n",
       "      <td>0.544561</td>\n",
       "      <td>0.592642</td>\n",
       "      <td>0.567585</td>\n",
       "      <td>0.973335</td>\n",
       "      <td>0.901955</td>\n",
       "      <td>0.9333253822490581</td>\n",
       "      <td>0.6274372353896844</td>\n",
       "    </tr>\n",
       "    <tr>\n",
       "      <th>2</th>\n",
       "      <td>AdaBoostClassifier</td>\n",
       "      <td>0.868782</td>\n",
       "      <td>0.450524</td>\n",
       "      <td>0.660870</td>\n",
       "      <td>0.535792</td>\n",
       "      <td>0.964179</td>\n",
       "      <td>0.889525</td>\n",
       "      <td>0.9409724358619996</td>\n",
       "      <td>0.6220209261272713</td>\n",
       "    </tr>\n",
       "    <tr>\n",
       "      <th>3</th>\n",
       "      <td>DecisionTreeClassifier</td>\n",
       "      <td>0.859661</td>\n",
       "      <td>0.417808</td>\n",
       "      <td>0.571237</td>\n",
       "      <td>0.482622</td>\n",
       "      <td>1.000000</td>\n",
       "      <td>0.734112</td>\n",
       "      <td>1.0</td>\n",
       "      <td>0.5013641037635651</td>\n",
       "    </tr>\n",
       "  </tbody>\n",
       "</table>\n",
       "</div>"
      ],
      "text/plain": [
       "                    Model  Accuracy  Precision    Recall  f1_score  \\\n",
       "0  RandomForestClassifier  0.897371   0.542576  0.664883  0.597535   \n",
       "1     Logistic Regression  0.896528   0.544561  0.592642  0.567585   \n",
       "2      AdaBoostClassifier  0.868782   0.450524  0.660870  0.535792   \n",
       "3  DecisionTreeClassifier  0.859661   0.417808  0.571237  0.482622   \n",
       "\n",
       "   roc_auc_train  roc_auc_test roc_auc_crossval_train roc_auc_crossval_test  \n",
       "0       1.000000      0.925763                    1.0   0.42750649183446693  \n",
       "1       0.973335      0.901955     0.9333253822490581    0.6274372353896844  \n",
       "2       0.964179      0.889525     0.9409724358619996    0.6220209261272713  \n",
       "3       1.000000      0.734112                    1.0    0.5013641037635651  "
      ]
     },
     "execution_count": 101,
     "metadata": {},
     "output_type": "execute_result"
    }
   ],
   "source": [
    "result_df = pd.DataFrame({'Model':model_list, 'Accuracy': acc_list, 'Precision': prec_list, 'Recall': rec_list,'f1_score': f1_score_value,\n",
    "                          'roc_auc_train': roc_auc_train ,'roc_auc_test' : roc_auc_test,'roc_auc_crossval_train': roc_auc_crossval_train,\n",
    "                          'roc_auc_crossval_test': roc_auc_crossval_test})\n",
    "result_df.sort_values(by='Accuracy', ascending=False).reset_index(drop=True)"
   ]
  },
  {
   "cell_type": "markdown",
   "metadata": {
    "id": "O-lHAW-8xPvP",
    "tags": []
   },
   "source": [
    "### Hyperparameter Tuning\n",
    "<b>Hyperparameter yang biasa di tuning pada Logistic Regression:</b> https://scikit-learn.org/stable/modules/generated/sklearn.linear_model.LogisticRegression.html\n",
    "- C: nilai regularization\n",
    "- penalty: menggukanan l2 norm (ridge), l1 (lasso), atau elastic net\n",
    "- solver: metode bagaimana kita melakukan update pada variable di logistic regression (slope/intercept): liblinear bagus jika data sedikit; sag & saga bagus jika data besar (karena menggunakan metode sampling)"
   ]
  },
  {
   "cell_type": "code",
   "execution_count": 112,
   "metadata": {
    "colab": {
     "base_uri": "https://localhost:8080/"
    },
    "executionInfo": {
     "elapsed": 2194,
     "status": "ok",
     "timestamp": 1664681970438,
     "user": {
      "displayName": "Rezki Trianto",
      "userId": "01079108557219378407"
     },
     "user_tz": -420
    },
    "id": "I0_woU-6ONFw",
    "outputId": "75b4774d-ca51-4e1d-da58-8f16f14e443d",
    "tags": []
   },
   "outputs": [
    {
     "name": "stdout",
     "output_type": "stream",
     "text": [
      "Eval Classification :  <class 'sklearn.linear_model._logistic.LogisticRegression'>\n",
      "Accuracy (Test Set): 0.90\n",
      "Precision (Test Set): 0.55\n",
      "Recall (Test Set): 0.59\n",
      "F1-Score (Test Set): 0.57\n",
      "roc_auc (test-proba): 0.90\n",
      "roc_auc (train-proba): 0.97\n",
      "roc_auc (crossval train): 0.9248352461300804\n",
      "roc_auc (crossval test): 0.6981150765892405\n"
     ]
    }
   ],
   "source": [
    "from sklearn.model_selection import RandomizedSearchCV, GridSearchCV\n",
    "\n",
    "penalty = ['l2', 'l1']\n",
    "C = [float(x) for x in np.linspace(0.0001, 1, 10)]\n",
    "max_iter= [int(x) for x in np.linspace(1, 100, 10)]\n",
    "hyperparameters = dict(penalty=penalty, C=C, max_iter=max_iter, solver=['liblinear'])\n",
    "          \n",
    "logreg = LogisticRegression(random_state=42, class_weight='balanced')\n",
    "tuned_logreg = RandomizedSearchCV(logreg, hyperparameters, scoring='roc_auc', random_state=42, cv=3)\n",
    "tuned_logreg.fit(X_train_over, y_train_over)\n",
    "eval_classification(tuned_logreg,LogisticRegression)"
   ]
  },
  {
   "cell_type": "code",
   "execution_count": 113,
   "metadata": {},
   "outputs": [
    {
     "name": "stdout",
     "output_type": "stream",
     "text": [
      "{'C': 0.2223, 'class_weight': 'balanced', 'dual': False, 'fit_intercept': True, 'intercept_scaling': 1, 'l1_ratio': None, 'max_iter': 23, 'multi_class': 'auto', 'n_jobs': None, 'penalty': 'l1', 'random_state': 42, 'solver': 'liblinear', 'tol': 0.0001, 'verbose': 0, 'warm_start': False}\n"
     ]
    }
   ],
   "source": [
    "show_best_hyperparameter(tuned_logreg)"
   ]
  },
  {
   "cell_type": "markdown",
   "metadata": {
    "id": "0V11IHfLxcQv",
    "jp-MarkdownHeadingCollapsed": true,
    "tags": []
   },
   "source": [
    "### Learning Curve"
   ]
  },
  {
   "cell_type": "code",
   "execution_count": 105,
   "metadata": {},
   "outputs": [],
   "source": [
    "# Analyzing Learning Curve\n",
    "import numpy as np\n",
    "from matplotlib import pyplot as plt\n",
    "from sklearn.metrics import accuracy_score, precision_score, recall_score, f1_score, roc_auc_score\n",
    "\n",
    "def draw_learning_curve(param_values):\n",
    "    train_scores = []\n",
    "    test_scores = []\n",
    "\n",
    "    for i in param_values:\n",
    "        model = LogisticRegression(random_state=42, class_weight='balanced', C=i, max_iter=i)\n",
    "        model.fit(X_train_over, y_train_over)\n",
    "\n",
    "        # eval on train\n",
    "        y_pred_train_proba = model.predict_proba(X_train_over)\n",
    "        train_auc = roc_auc_score(y_train_over, y_pred_train_proba[:,1])\n",
    "        train_scores.append(train_auc)\n",
    "\n",
    "        # eval on test\n",
    "        y_pred_proba = model.predict_proba(X_test)\n",
    "        test_auc = roc_auc_score(y_test, y_pred_proba[:,1])\n",
    "        test_scores.append(test_auc)\n",
    "\n",
    "        print('param value: ' + str(i) + '; train: ' + str(train_auc) + '; test: '+ str(test_auc))\n",
    "\n",
    "    plt.plot(param_values, train_scores, label='Train')\n",
    "    plt.plot(param_values, test_scores, label='Test')\n",
    "    plt.xlabel('k')\n",
    "    plt.ylabel('AUC')\n",
    "    plt.title('Learning Curve')\n",
    "    plt.legend()\n",
    "    plt.show()"
   ]
  },
  {
   "cell_type": "code",
   "execution_count": 106,
   "metadata": {
    "colab": {
     "base_uri": "https://localhost:8080/",
     "height": 1000
    },
    "executionInfo": {
     "elapsed": 7031,
     "status": "ok",
     "timestamp": 1664190887202,
     "user": {
      "displayName": "Rezki Trianto",
      "userId": "01079108557219378407"
     },
     "user_tz": -420
    },
    "id": "6PkgtA-WPKmr",
    "outputId": "f143c984-0b9a-483a-aff2-ac50fa08058e",
    "tags": []
   },
   "outputs": [
    {
     "name": "stdout",
     "output_type": "stream",
     "text": [
      "param value: 1; train: 0.5458342134863023; test: 0.5430678438747811\n",
      "param value: 27; train: 0.9523824282028088; test: 0.8532686864803269\n",
      "param value: 53; train: 0.9696898342938248; test: 0.8840750910236339\n",
      "param value: 79; train: 0.9715641828576346; test: 0.8925742201613874\n",
      "param value: 106; train: 0.9732932798751228; test: 0.903187101047814\n",
      "param value: 132; train: 0.9739445313167483; test: 0.9018313005493843\n",
      "param value: 158; train: 0.974119341291924; test: 0.9027140329260045\n",
      "param value: 184; train: 0.9742988971206332; test: 0.9028502209581338\n",
      "param value: 211; train: 0.9746590451653745; test: 0.9007675052575993\n",
      "param value: 237; train: 0.9743646835654685; test: 0.9007129026579828\n",
      "param value: 263; train: 0.9747151384217194; test: 0.900633285930016\n",
      "param value: 289; train: 0.9747862765443684; test: 0.9009423146406766\n",
      "param value: 316; train: 0.9747109280119695; test: 0.9010630425518117\n",
      "param value: 342; train: 0.9747375649601813; test: 0.9006979057615875\n",
      "param value: 368; train: 0.9750123856220146; test: 0.9010284165130305\n",
      "param value: 394; train: 0.9751614045949558; test: 0.9014123718025921\n",
      "param value: 421; train: 0.9749094934749971; test: 0.9003940883276665\n",
      "param value: 447; train: 0.9749902199053956; test: 0.9008486853685879\n",
      "param value: 473; train: 0.9751598341438593; test: 0.9018428232612864\n",
      "param value: 500; train: 0.9751434396280186; test: 0.9008310828338226\n"
     ]
    },
    {
     "data": {
      "image/png": "[encoded data removed]",
      "text/plain": [
       "<Figure size 864x288 with 1 Axes>"
      ]
     },
     "metadata": {
      "needs_background": "light"
     },
     "output_type": "display_data"
    }
   ],
   "source": [
    "# learning curve find best C value\n",
    "import numpy as np\n",
    "param_values = [int(x) for x in np.linspace(1, 500, 20)]\n",
    "draw_learning_curve(param_values)"
   ]
  }
 ],
 "metadata": {
  "colab": {
   "collapsed_sections": [
    "d-w4qBU5tYGb"
   ],
   "provenance": [],
   "toc_visible": true
  },
  "kernelspec": {
   "display_name": "Python 3 (ipykernel)",
   "language": "python",
   "name": "python3"
  },
  "language_info": {
   "codemirror_mode": {
    "name": "ipython",
    "version": 3
   },
   "file_extension": ".py",
   "mimetype": "text/x-python",
   "name": "python",
   "nbconvert_exporter": "python",
   "pygments_lexer": "ipython3",
   "version": "3.9.7"
  }
 },
 "nbformat": 4,
 "nbformat_minor": 4
}
